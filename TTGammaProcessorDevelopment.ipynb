{
 "cells": [
  {
   "cell_type": "markdown",
   "metadata": {},
   "source": [
    "# Running the TTGammaProcessor"
   ]
  },
  {
   "cell_type": "markdown",
   "metadata": {},
   "source": [
    "This cell will copy the test files from their location on eos to your local area. This only needs to be done once!"
   ]
  },
  {
   "cell_type": "code",
   "execution_count": 1,
   "metadata": {},
   "outputs": [],
   "source": [
    "%load_ext autoreload\n",
    "from coffea import util, processor\n",
    "from coffea.nanoevents import NanoEventsFactory, NanoAODSchema\n",
    "import awkward as ak\n",
    "import numpy as np\n",
    "import time"
   ]
  },
  {
   "cell_type": "markdown",
   "metadata": {},
   "source": [
    "List of samples to be run on (fileset variable) and a dictionary containing the number of events processed for each sample"
   ]
  },
  {
   "cell_type": "code",
   "execution_count": 2,
   "metadata": {},
   "outputs": [],
   "source": [
    "fileset = {\n",
    "    \"TTGamma_SingleLept\": [\n",
    "        \"root://cmseos.fnal.gov//store/user/cmsdas/2020/long_exercises/TTGamma/TestFiles/TTGamma_1l.root\"\n",
    "    ],\n",
    "    \"TTbarPowheg_Semilept\": [\n",
    "        \"root://cmseos.fnal.gov//store/user/cmsdas/2021/long_exercises/TTGamma/TestFiles/TTbar_1l.root\"\n",
    "    ],\n",
    "    \"W4jets\": [\n",
    "        \"root://cmseos.fnal.gov//store/user/cmsdas/2022/long_exercises/TTGamma/TestFiles/W4Jets.root\"\n",
    "    ],\n",
    "    \"WGamma_01J_5f\": [\n",
    "        \"root://cmseos.fnal.gov//store/user/cmsdas/2023/long_exercises/TTGamma/TestFiles/WGamma.root\"\n",
    "    ],\n",
    "    \"ZGamma_01J_5f_lowMass\": [\n",
    "        \"root://cmseos.fnal.gov//store/user/cmsdas/2024/long_exercises/TTGamma/TestFiles/ZGamma.root\"\n",
    "    ],\n",
    "}"
   ]
  },
  {
   "cell_type": "markdown",
   "metadata": {},
   "source": [
    "Run the TTGammaProcessor on the list of files included in fileset.\n",
    "\n",
    "You can specify the chunksize and maximum number of chunks to process from each sample (selecting a small number of events and one chunk will force coffea to process only a subset of the events for quicker debugging)"
   ]
  },
  {
   "cell_type": "code",
   "execution_count": null,
   "metadata": {},
   "outputs": [],
   "source": [
    "#autoreload forces the kernel to reload the processor to include any new changes\n",
    "%autoreload 2\n",
    "from ttgamma import TTGammaProcessor\n",
    "\n",
    "tstart = time.time()\n",
    "\n",
    "#Run Coffea code using uproot\n",
    "iterative_run = processor.Runner(\n",
    "    executor = processor.IterativeExecutor(compression=None),\n",
    "    schema=NanoAODSchema,\n",
    "    chunksize=40_000,\n",
    "    maxchunks=1,\n",
    ")\n",
    "output = iterative_run(\n",
    "    fileset,\n",
    "    treename=\"Events\",\n",
    "    processor_instance=TTGammaProcessor(isMC=True),\n",
    ")\n",
    "\n",
    "elapsed = time.time() - tstart\n",
    "print(\"Total time: %.1f seconds\"%elapsed)"
   ]
  },
  {
   "cell_type": "code",
   "execution_count": null,
   "metadata": {},
   "outputs": [],
   "source": [
    "output"
   ]
  },
  {
   "cell_type": "code",
   "execution_count": null,
   "metadata": {},
   "outputs": [],
   "source": [
    "import hist\n",
    "import matplotlib.pyplot as plt\n",
    "\n",
    "\n",
    "fig, ax = plt.subplots()\n",
    "\n",
    "for ds, histos in output.items():\n",
    "    h = histos[\"all_photon_pt\"]\n",
    "    # h = histos[\"photon_chIso\"]\n",
    "    # for more complex histos you will have to reduce the dimensions with slicing\n",
    "    # see https://uhi.readthedocs.io/en/latest/indexing.html for a guide\n",
    "    # h = h[{\"category\": sum, \"lepFlavor\": sum, \"systematic\": \"nominal\"}]\n",
    "    h.plot1d(ax=ax, label=ds)\n",
    "\n",
    "ax.set_yscale(\"log\")\n",
    "ax.legend()"
   ]
  },
  {
   "cell_type": "code",
   "execution_count": null,
   "metadata": {},
   "outputs": [],
   "source": [
    "expected = util.load(\"output_Expected.coffea\")\n",
    "\n",
    "hname = \"photon_chIso\"\n",
    "for ds, histo in expected.items():\n",
    "    mine = output[ds][hname].values()\n",
    "    other = expected[ds][hname].values()\n",
    "    if mine.shape != other.shape:\n",
    "        print(f\"For dataset {ds} there is a mismatch in axes\")\n",
    "    elif not np.all(mine == other):\n",
    "        print(f\"For dataset {ds} there is a mismatch in bin yields\")\n",
    "    else:\n",
    "        print(f\"All good for {ds}\")\n",
    "\n",
    "print(\"Done!\")"
   ]
  },
  {
   "cell_type": "markdown",
   "metadata": {},
   "source": [
    "# Accessing Arrays Interactively"
   ]
  },
  {
   "cell_type": "markdown",
   "metadata": {},
   "source": [
    "Below is an example of loading a NanoAOD file interactively. This can be very useful for developing the code, and debugging any issues. Use this area to build your intuition for working with Coffea and awkward arrays!"
   ]
  },
  {
   "cell_type": "code",
   "execution_count": null,
   "metadata": {},
   "outputs": [],
   "source": [
    "import awkward as ak\n",
    "from coffea.nanoevents import NanoEventsFactory, NanoAODSchema\n",
    "\n",
    "dataset = \"TTGamma_SingleLept\"\n",
    "fname = fileset[dataset][0]\n",
    "events = NanoEventsFactory.from_root(\n",
    "    fname,\n",
    "    schemaclass=NanoAODSchema,\n",
    "    entry_stop=40_000,\n",
    "    metadata={\"dataset\": dataset},\n",
    ").events()"
   ]
  },
  {
   "cell_type": "markdown",
   "metadata": {},
   "source": [
    "Once you have opened the file, you can explore its contents using the 'fields' syntax"
   ]
  },
  {
   "cell_type": "code",
   "execution_count": null,
   "metadata": {},
   "outputs": [],
   "source": [
    "events[\"Photon\", \"charge\"] = 0\n",
    "leadingMuon = ak.firsts(events.Muon)\n",
    "leadingPhoton = ak.firsts(events.Photon)\n",
    "leadingElectron = ak.firsts(events.Electron)"
   ]
  },
  {
   "cell_type": "code",
   "execution_count": null,
   "metadata": {},
   "outputs": [],
   "source": [
    "(leadingMuon + leadingPhoton).mass"
   ]
  },
  {
   "cell_type": "code",
   "execution_count": null,
   "metadata": {},
   "outputs": [],
   "source": [
    "mugammapairs = ak.cartesian({\"mu\":events.Muon, \"gamma\":events.Photon})\n",
    "(mugammapairs.mu + mugammapairs.gamma).mass"
   ]
  },
  {
   "cell_type": "code",
   "execution_count": null,
   "metadata": {},
   "outputs": [],
   "source": [
    "leadingMuon"
   ]
  },
  {
   "cell_type": "code",
   "execution_count": null,
   "metadata": {},
   "outputs": [],
   "source": [
    "print(leadingMuon)"
   ]
  },
  {
   "cell_type": "code",
   "execution_count": null,
   "metadata": {},
   "outputs": [],
   "source": [
    "type(leadingMuon)"
   ]
  },
  {
   "cell_type": "code",
   "execution_count": null,
   "metadata": {},
   "outputs": [],
   "source": [
    "from ttgamma.scalefactors import mu_trig_err\n",
    "\n",
    "mu_trig_err"
   ]
  },
  {
   "cell_type": "code",
   "execution_count": null,
   "metadata": {},
   "outputs": [],
   "source": [
    "mu_trig_err(1.2, 36)"
   ]
  },
  {
   "cell_type": "code",
   "execution_count": null,
   "metadata": {},
   "outputs": [],
   "source": [
    "events.Photon.matched_gen.fields"
   ]
  },
  {
   "cell_type": "code",
   "execution_count": null,
   "metadata": {},
   "outputs": [],
   "source": [
    "events.GenPart.fields"
   ]
  },
  {
   "cell_type": "markdown",
   "metadata": {},
   "source": [
    "There is also a docstring for each of these variables in NanoAOD, which you can access using '?':"
   ]
  },
  {
   "cell_type": "code",
   "execution_count": null,
   "metadata": {},
   "outputs": [],
   "source": [
    "events.Jet.rawFactor?"
   ]
  },
  {
   "cell_type": "code",
   "execution_count": null,
   "metadata": {},
   "outputs": [],
   "source": []
  }
 ],
 "metadata": {
  "kernelspec": {
   "display_name": "Python 3 (ipykernel)",
   "language": "python",
   "name": "python3"
  },
  "language_info": {
   "codemirror_mode": {
    "name": "ipython",
    "version": 3
   },
   "file_extension": ".py",
   "mimetype": "text/x-python",
   "name": "python",
   "nbconvert_exporter": "python",
   "pygments_lexer": "ipython3",
   "version": "3.10.8"
  }
 },
 "nbformat": 4,
 "nbformat_minor": 4
}
