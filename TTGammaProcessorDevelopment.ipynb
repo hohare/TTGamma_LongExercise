{
 "cells": [
  {
   "cell_type": "markdown",
   "metadata": {},
   "source": [
    "# Running the TTGammaProcessor"
   ]
  },
  {
   "cell_type": "markdown",
   "metadata": {},
   "source": [
    "This cell will copy the test files from their location on eos to your local area. This only needs to be done once!"
   ]
  },
  {
   "cell_type": "code",
   "execution_count": 1,
   "metadata": {},
   "outputs": [],
   "source": [
    "%load_ext autoreload\n",
    "from coffea import util, processor\n",
    "from coffea.nanoevents import NanoEventsFactory, NanoAODSchema\n",
    "import awkward as ak\n",
    "import numpy as np\n",
    "import time"
   ]
  },
  {
   "cell_type": "markdown",
   "metadata": {},
   "source": [
    "List of samples to be run on (fileset variable) and a dictionary containing the number of events processed for each sample"
   ]
  },
  {
   "cell_type": "code",
   "execution_count": 2,
   "metadata": {},
   "outputs": [],
   "source": [
    "fileset = {\n",
    "    \"TTGamma_SingleLept\": [\n",
    "        \"root://cmseos.fnal.gov//store/user/cmsdas/2020/long_exercises/TTGamma/TestFiles/TTGamma_1l.root\"\n",
    "    ],\n",
    "    \"TTbarPowheg_Semilept\": [\n",
    "        \"root://cmseos.fnal.gov//store/user/cmsdas/2021/long_exercises/TTGamma/TestFiles/TTbar_1l.root\"\n",
    "    ],\n",
    "    \"W4jets\": [\n",
    "        \"root://cmseos.fnal.gov//store/user/cmsdas/2022/long_exercises/TTGamma/TestFiles/W4Jets.root\"\n",
    "    ],\n",
    "    \"WGamma_01J_5f\": [\n",
    "        \"root://cmseos.fnal.gov//store/user/cmsdas/2023/long_exercises/TTGamma/TestFiles/WGamma.root\"\n",
    "    ],\n",
    "    \"ZGamma_01J_5f_lowMass\": [\n",
    "        \"root://cmseos.fnal.gov//store/user/cmsdas/2024/long_exercises/TTGamma/TestFiles/ZGamma.root\"\n",
    "    ],\n",
    "}"
   ]
  },
  {
   "cell_type": "markdown",
   "metadata": {},
   "source": [
    "Run the TTGammaProcessor on the list of files included in fileset.\n",
    "\n",
    "You can specify the chunksize and maximum number of chunks to process from each sample (selecting a small number of events and one chunk will force coffea to process only a subset of the events for quicker debugging)"
   ]
  },
  {
   "cell_type": "code",
   "execution_count": 3,
   "metadata": {},
   "outputs": [
    {
     "data": {
      "application/vnd.jupyter.widget-view+json": {
       "model_id": "08a1009e686e42b2abaebcc5bc3df360",
       "version_major": 2,
       "version_minor": 0
      },
      "text/plain": [
       "Output()"
      ]
     },
     "metadata": {},
     "output_type": "display_data"
    },
    {
     "data": {
      "text/html": [
       "<pre style=\"white-space:pre;overflow-x:auto;line-height:normal;font-family:Menlo,'DejaVu Sans Mono',consolas,'Courier New',monospace\"></pre>\n"
      ],
      "text/plain": []
     },
     "metadata": {},
     "output_type": "display_data"
    },
    {
     "data": {
      "text/html": [
       "<pre style=\"white-space:pre;overflow-x:auto;line-height:normal;font-family:Menlo,'DejaVu Sans Mono',consolas,'Courier New',monospace\">\n",
       "</pre>\n"
      ],
      "text/plain": [
       "\n"
      ]
     },
     "metadata": {},
     "output_type": "display_data"
    },
    {
     "data": {
      "application/vnd.jupyter.widget-view+json": {
       "model_id": "c0f631126f40401cbe9fc12e1f7cb8c7",
       "version_major": 2,
       "version_minor": 0
      },
      "text/plain": [
       "Output()"
      ]
     },
     "metadata": {},
     "output_type": "display_data"
    },
    {
     "data": {
      "text/html": [
       "<pre style=\"white-space:pre;overflow-x:auto;line-height:normal;font-family:Menlo,'DejaVu Sans Mono',consolas,'Courier New',monospace\">/usr/local/lib/python3.10/site-packages/coffea/lookup_tools/dense_mapped_lookup.py:28: NumbaDeprecationWarning: <span style=\"font-weight: bold\">The</span>\n",
       "<span style=\"font-weight: bold\">'nopython' keyword argument was not supplied to the 'numba.jit' decorator. The implicit default value for this </span>\n",
       "<span style=\"font-weight: bold\">argument is currently False, but it will be changed to True in Numba 0.59.0. See </span>\n",
       "<span style=\"font-weight: bold\">https://numba.readthedocs.io/en/stable/reference/deprecation.html#deprecation-of-object-mode-fall-back-behaviour-wh</span>\n",
       "<span style=\"font-weight: bold\">en-using-jit for details.</span>\n",
       "  out = numba.jit()(feval)\n",
       "</pre>\n"
      ],
      "text/plain": [
       "/usr/local/lib/python3.10/site-packages/coffea/lookup_tools/dense_mapped_lookup.py:28: NumbaDeprecationWarning: \u001b[1mThe\u001b[0m\n",
       "\u001b[1m'nopython' keyword argument was not supplied to the 'numba.jit' decorator. The implicit default value for this \u001b[0m\n",
       "\u001b[1margument is currently False, but it will be changed to True in Numba 0.59.0. See \u001b[0m\n",
       "\u001b[1mhttps://numba.readthedocs.io/en/stable/reference/deprecation.html#deprecation-of-object-mode-fall-back-behaviour-wh\u001b[0m\n",
       "\u001b[1men-using-jit for details.\u001b[0m\n",
       "  out = numba.jit()(feval)\n"
      ]
     },
     "metadata": {},
     "output_type": "display_data"
    },
    {
     "data": {
      "text/html": [
       "<pre style=\"white-space:pre;overflow-x:auto;line-height:normal;font-family:Menlo,'DejaVu Sans Mono',consolas,'Courier New',monospace\">/usr/local/lib/python3.10/site-packages/coffea/lookup_tools/dense_mapped_lookup.py:28: NumbaDeprecationWarning: <span style=\"font-weight: bold\">The</span>\n",
       "<span style=\"font-weight: bold\">'nopython' keyword argument was not supplied to the 'numba.jit' decorator. The implicit default value for this </span>\n",
       "<span style=\"font-weight: bold\">argument is currently False, but it will be changed to True in Numba 0.59.0. See </span>\n",
       "<span style=\"font-weight: bold\">https://numba.readthedocs.io/en/stable/reference/deprecation.html#deprecation-of-object-mode-fall-back-behaviour-wh</span>\n",
       "<span style=\"font-weight: bold\">en-using-jit for details.</span>\n",
       "  out = numba.jit()(feval)\n",
       "</pre>\n"
      ],
      "text/plain": [
       "/usr/local/lib/python3.10/site-packages/coffea/lookup_tools/dense_mapped_lookup.py:28: NumbaDeprecationWarning: \u001b[1mThe\u001b[0m\n",
       "\u001b[1m'nopython' keyword argument was not supplied to the 'numba.jit' decorator. The implicit default value for this \u001b[0m\n",
       "\u001b[1margument is currently False, but it will be changed to True in Numba 0.59.0. See \u001b[0m\n",
       "\u001b[1mhttps://numba.readthedocs.io/en/stable/reference/deprecation.html#deprecation-of-object-mode-fall-back-behaviour-wh\u001b[0m\n",
       "\u001b[1men-using-jit for details.\u001b[0m\n",
       "  out = numba.jit()(feval)\n"
      ]
     },
     "metadata": {},
     "output_type": "display_data"
    },
    {
     "data": {
      "text/html": [
       "<pre style=\"white-space:pre;overflow-x:auto;line-height:normal;font-family:Menlo,'DejaVu Sans Mono',consolas,'Courier New',monospace\">/usr/local/lib/python3.10/site-packages/coffea/lookup_tools/dense_mapped_lookup.py:28: NumbaDeprecationWarning: <span style=\"font-weight: bold\">The</span>\n",
       "<span style=\"font-weight: bold\">'nopython' keyword argument was not supplied to the 'numba.jit' decorator. The implicit default value for this </span>\n",
       "<span style=\"font-weight: bold\">argument is currently False, but it will be changed to True in Numba 0.59.0. See </span>\n",
       "<span style=\"font-weight: bold\">https://numba.readthedocs.io/en/stable/reference/deprecation.html#deprecation-of-object-mode-fall-back-behaviour-wh</span>\n",
       "<span style=\"font-weight: bold\">en-using-jit for details.</span>\n",
       "  out = numba.jit()(feval)\n",
       "</pre>\n"
      ],
      "text/plain": [
       "/usr/local/lib/python3.10/site-packages/coffea/lookup_tools/dense_mapped_lookup.py:28: NumbaDeprecationWarning: \u001b[1mThe\u001b[0m\n",
       "\u001b[1m'nopython' keyword argument was not supplied to the 'numba.jit' decorator. The implicit default value for this \u001b[0m\n",
       "\u001b[1margument is currently False, but it will be changed to True in Numba 0.59.0. See \u001b[0m\n",
       "\u001b[1mhttps://numba.readthedocs.io/en/stable/reference/deprecation.html#deprecation-of-object-mode-fall-back-behaviour-wh\u001b[0m\n",
       "\u001b[1men-using-jit for details.\u001b[0m\n",
       "  out = numba.jit()(feval)\n"
      ]
     },
     "metadata": {},
     "output_type": "display_data"
    },
    {
     "data": {
      "text/html": [
       "<pre style=\"white-space:pre;overflow-x:auto;line-height:normal;font-family:Menlo,'DejaVu Sans Mono',consolas,'Courier New',monospace\">/usr/local/lib/python3.10/site-packages/coffea/lookup_tools/dense_mapped_lookup.py:28: NumbaDeprecationWarning: <span style=\"font-weight: bold\">The</span>\n",
       "<span style=\"font-weight: bold\">'nopython' keyword argument was not supplied to the 'numba.jit' decorator. The implicit default value for this </span>\n",
       "<span style=\"font-weight: bold\">argument is currently False, but it will be changed to True in Numba 0.59.0. See </span>\n",
       "<span style=\"font-weight: bold\">https://numba.readthedocs.io/en/stable/reference/deprecation.html#deprecation-of-object-mode-fall-back-behaviour-wh</span>\n",
       "<span style=\"font-weight: bold\">en-using-jit for details.</span>\n",
       "  out = numba.jit()(feval)\n",
       "</pre>\n"
      ],
      "text/plain": [
       "/usr/local/lib/python3.10/site-packages/coffea/lookup_tools/dense_mapped_lookup.py:28: NumbaDeprecationWarning: \u001b[1mThe\u001b[0m\n",
       "\u001b[1m'nopython' keyword argument was not supplied to the 'numba.jit' decorator. The implicit default value for this \u001b[0m\n",
       "\u001b[1margument is currently False, but it will be changed to True in Numba 0.59.0. See \u001b[0m\n",
       "\u001b[1mhttps://numba.readthedocs.io/en/stable/reference/deprecation.html#deprecation-of-object-mode-fall-back-behaviour-wh\u001b[0m\n",
       "\u001b[1men-using-jit for details.\u001b[0m\n",
       "  out = numba.jit()(feval)\n"
      ]
     },
     "metadata": {},
     "output_type": "display_data"
    },
    {
     "data": {
      "text/html": [
       "<pre style=\"white-space:pre;overflow-x:auto;line-height:normal;font-family:Menlo,'DejaVu Sans Mono',consolas,'Courier New',monospace\">/usr/local/lib/python3.10/site-packages/coffea/lookup_tools/dense_mapped_lookup.py:28: NumbaDeprecationWarning: <span style=\"font-weight: bold\">The</span>\n",
       "<span style=\"font-weight: bold\">'nopython' keyword argument was not supplied to the 'numba.jit' decorator. The implicit default value for this </span>\n",
       "<span style=\"font-weight: bold\">argument is currently False, but it will be changed to True in Numba 0.59.0. See </span>\n",
       "<span style=\"font-weight: bold\">https://numba.readthedocs.io/en/stable/reference/deprecation.html#deprecation-of-object-mode-fall-back-behaviour-wh</span>\n",
       "<span style=\"font-weight: bold\">en-using-jit for details.</span>\n",
       "  out = numba.jit()(feval)\n",
       "</pre>\n"
      ],
      "text/plain": [
       "/usr/local/lib/python3.10/site-packages/coffea/lookup_tools/dense_mapped_lookup.py:28: NumbaDeprecationWarning: \u001b[1mThe\u001b[0m\n",
       "\u001b[1m'nopython' keyword argument was not supplied to the 'numba.jit' decorator. The implicit default value for this \u001b[0m\n",
       "\u001b[1margument is currently False, but it will be changed to True in Numba 0.59.0. See \u001b[0m\n",
       "\u001b[1mhttps://numba.readthedocs.io/en/stable/reference/deprecation.html#deprecation-of-object-mode-fall-back-behaviour-wh\u001b[0m\n",
       "\u001b[1men-using-jit for details.\u001b[0m\n",
       "  out = numba.jit()(feval)\n"
      ]
     },
     "metadata": {},
     "output_type": "display_data"
    },
    {
     "data": {
      "text/html": [
       "<pre style=\"white-space:pre;overflow-x:auto;line-height:normal;font-family:Menlo,'DejaVu Sans Mono',consolas,'Courier New',monospace\">/usr/local/lib/python3.10/site-packages/coffea/lookup_tools/dense_mapped_lookup.py:28: NumbaDeprecationWarning: <span style=\"font-weight: bold\">The</span>\n",
       "<span style=\"font-weight: bold\">'nopython' keyword argument was not supplied to the 'numba.jit' decorator. The implicit default value for this </span>\n",
       "<span style=\"font-weight: bold\">argument is currently False, but it will be changed to True in Numba 0.59.0. See </span>\n",
       "<span style=\"font-weight: bold\">https://numba.readthedocs.io/en/stable/reference/deprecation.html#deprecation-of-object-mode-fall-back-behaviour-wh</span>\n",
       "<span style=\"font-weight: bold\">en-using-jit for details.</span>\n",
       "  out = numba.jit()(feval)\n",
       "</pre>\n"
      ],
      "text/plain": [
       "/usr/local/lib/python3.10/site-packages/coffea/lookup_tools/dense_mapped_lookup.py:28: NumbaDeprecationWarning: \u001b[1mThe\u001b[0m\n",
       "\u001b[1m'nopython' keyword argument was not supplied to the 'numba.jit' decorator. The implicit default value for this \u001b[0m\n",
       "\u001b[1margument is currently False, but it will be changed to True in Numba 0.59.0. See \u001b[0m\n",
       "\u001b[1mhttps://numba.readthedocs.io/en/stable/reference/deprecation.html#deprecation-of-object-mode-fall-back-behaviour-wh\u001b[0m\n",
       "\u001b[1men-using-jit for details.\u001b[0m\n",
       "  out = numba.jit()(feval)\n"
      ]
     },
     "metadata": {},
     "output_type": "display_data"
    },
    {
     "data": {
      "text/html": [
       "<pre style=\"white-space:pre;overflow-x:auto;line-height:normal;font-family:Menlo,'DejaVu Sans Mono',consolas,'Courier New',monospace\">/usr/local/lib/python3.10/site-packages/coffea/lookup_tools/dense_mapped_lookup.py:28: NumbaDeprecationWarning: <span style=\"font-weight: bold\">The</span>\n",
       "<span style=\"font-weight: bold\">'nopython' keyword argument was not supplied to the 'numba.jit' decorator. The implicit default value for this </span>\n",
       "<span style=\"font-weight: bold\">argument is currently False, but it will be changed to True in Numba 0.59.0. See </span>\n",
       "<span style=\"font-weight: bold\">https://numba.readthedocs.io/en/stable/reference/deprecation.html#deprecation-of-object-mode-fall-back-behaviour-wh</span>\n",
       "<span style=\"font-weight: bold\">en-using-jit for details.</span>\n",
       "  out = numba.jit()(feval)\n",
       "</pre>\n"
      ],
      "text/plain": [
       "/usr/local/lib/python3.10/site-packages/coffea/lookup_tools/dense_mapped_lookup.py:28: NumbaDeprecationWarning: \u001b[1mThe\u001b[0m\n",
       "\u001b[1m'nopython' keyword argument was not supplied to the 'numba.jit' decorator. The implicit default value for this \u001b[0m\n",
       "\u001b[1margument is currently False, but it will be changed to True in Numba 0.59.0. See \u001b[0m\n",
       "\u001b[1mhttps://numba.readthedocs.io/en/stable/reference/deprecation.html#deprecation-of-object-mode-fall-back-behaviour-wh\u001b[0m\n",
       "\u001b[1men-using-jit for details.\u001b[0m\n",
       "  out = numba.jit()(feval)\n"
      ]
     },
     "metadata": {},
     "output_type": "display_data"
    },
    {
     "data": {
      "text/html": [
       "<pre style=\"white-space:pre;overflow-x:auto;line-height:normal;font-family:Menlo,'DejaVu Sans Mono',consolas,'Courier New',monospace\">/usr/local/lib/python3.10/site-packages/coffea/lookup_tools/dense_mapped_lookup.py:28: NumbaDeprecationWarning: <span style=\"font-weight: bold\">The</span>\n",
       "<span style=\"font-weight: bold\">'nopython' keyword argument was not supplied to the 'numba.jit' decorator. The implicit default value for this </span>\n",
       "<span style=\"font-weight: bold\">argument is currently False, but it will be changed to True in Numba 0.59.0. See </span>\n",
       "<span style=\"font-weight: bold\">https://numba.readthedocs.io/en/stable/reference/deprecation.html#deprecation-of-object-mode-fall-back-behaviour-wh</span>\n",
       "<span style=\"font-weight: bold\">en-using-jit for details.</span>\n",
       "  out = numba.jit()(feval)\n",
       "</pre>\n"
      ],
      "text/plain": [
       "/usr/local/lib/python3.10/site-packages/coffea/lookup_tools/dense_mapped_lookup.py:28: NumbaDeprecationWarning: \u001b[1mThe\u001b[0m\n",
       "\u001b[1m'nopython' keyword argument was not supplied to the 'numba.jit' decorator. The implicit default value for this \u001b[0m\n",
       "\u001b[1margument is currently False, but it will be changed to True in Numba 0.59.0. See \u001b[0m\n",
       "\u001b[1mhttps://numba.readthedocs.io/en/stable/reference/deprecation.html#deprecation-of-object-mode-fall-back-behaviour-wh\u001b[0m\n",
       "\u001b[1men-using-jit for details.\u001b[0m\n",
       "  out = numba.jit()(feval)\n"
      ]
     },
     "metadata": {},
     "output_type": "display_data"
    },
    {
     "data": {
      "text/html": [
       "<pre style=\"white-space:pre;overflow-x:auto;line-height:normal;font-family:Menlo,'DejaVu Sans Mono',consolas,'Courier New',monospace\">/usr/local/lib/python3.10/site-packages/coffea/lookup_tools/dense_mapped_lookup.py:28: NumbaDeprecationWarning: <span style=\"font-weight: bold\">The</span>\n",
       "<span style=\"font-weight: bold\">'nopython' keyword argument was not supplied to the 'numba.jit' decorator. The implicit default value for this </span>\n",
       "<span style=\"font-weight: bold\">argument is currently False, but it will be changed to True in Numba 0.59.0. See </span>\n",
       "<span style=\"font-weight: bold\">https://numba.readthedocs.io/en/stable/reference/deprecation.html#deprecation-of-object-mode-fall-back-behaviour-wh</span>\n",
       "<span style=\"font-weight: bold\">en-using-jit for details.</span>\n",
       "  out = numba.jit()(feval)\n",
       "</pre>\n"
      ],
      "text/plain": [
       "/usr/local/lib/python3.10/site-packages/coffea/lookup_tools/dense_mapped_lookup.py:28: NumbaDeprecationWarning: \u001b[1mThe\u001b[0m\n",
       "\u001b[1m'nopython' keyword argument was not supplied to the 'numba.jit' decorator. The implicit default value for this \u001b[0m\n",
       "\u001b[1margument is currently False, but it will be changed to True in Numba 0.59.0. See \u001b[0m\n",
       "\u001b[1mhttps://numba.readthedocs.io/en/stable/reference/deprecation.html#deprecation-of-object-mode-fall-back-behaviour-wh\u001b[0m\n",
       "\u001b[1men-using-jit for details.\u001b[0m\n",
       "  out = numba.jit()(feval)\n"
      ]
     },
     "metadata": {},
     "output_type": "display_data"
    },
    {
     "data": {
      "text/html": [
       "<pre style=\"white-space:pre;overflow-x:auto;line-height:normal;font-family:Menlo,'DejaVu Sans Mono',consolas,'Courier New',monospace\">/usr/local/lib/python3.10/site-packages/coffea/lookup_tools/dense_mapped_lookup.py:28: NumbaDeprecationWarning: <span style=\"font-weight: bold\">The</span>\n",
       "<span style=\"font-weight: bold\">'nopython' keyword argument was not supplied to the 'numba.jit' decorator. The implicit default value for this </span>\n",
       "<span style=\"font-weight: bold\">argument is currently False, but it will be changed to True in Numba 0.59.0. See </span>\n",
       "<span style=\"font-weight: bold\">https://numba.readthedocs.io/en/stable/reference/deprecation.html#deprecation-of-object-mode-fall-back-behaviour-wh</span>\n",
       "<span style=\"font-weight: bold\">en-using-jit for details.</span>\n",
       "  out = numba.jit()(feval)\n",
       "</pre>\n"
      ],
      "text/plain": [
       "/usr/local/lib/python3.10/site-packages/coffea/lookup_tools/dense_mapped_lookup.py:28: NumbaDeprecationWarning: \u001b[1mThe\u001b[0m\n",
       "\u001b[1m'nopython' keyword argument was not supplied to the 'numba.jit' decorator. The implicit default value for this \u001b[0m\n",
       "\u001b[1margument is currently False, but it will be changed to True in Numba 0.59.0. See \u001b[0m\n",
       "\u001b[1mhttps://numba.readthedocs.io/en/stable/reference/deprecation.html#deprecation-of-object-mode-fall-back-behaviour-wh\u001b[0m\n",
       "\u001b[1men-using-jit for details.\u001b[0m\n",
       "  out = numba.jit()(feval)\n"
      ]
     },
     "metadata": {},
     "output_type": "display_data"
    },
    {
     "data": {
      "text/html": [
       "<pre style=\"white-space:pre;overflow-x:auto;line-height:normal;font-family:Menlo,'DejaVu Sans Mono',consolas,'Courier New',monospace\">/usr/local/lib/python3.10/site-packages/coffea/lookup_tools/dense_mapped_lookup.py:28: NumbaDeprecationWarning: <span style=\"font-weight: bold\">The</span>\n",
       "<span style=\"font-weight: bold\">'nopython' keyword argument was not supplied to the 'numba.jit' decorator. The implicit default value for this </span>\n",
       "<span style=\"font-weight: bold\">argument is currently False, but it will be changed to True in Numba 0.59.0. See </span>\n",
       "<span style=\"font-weight: bold\">https://numba.readthedocs.io/en/stable/reference/deprecation.html#deprecation-of-object-mode-fall-back-behaviour-wh</span>\n",
       "<span style=\"font-weight: bold\">en-using-jit for details.</span>\n",
       "  out = numba.jit()(feval)\n",
       "</pre>\n"
      ],
      "text/plain": [
       "/usr/local/lib/python3.10/site-packages/coffea/lookup_tools/dense_mapped_lookup.py:28: NumbaDeprecationWarning: \u001b[1mThe\u001b[0m\n",
       "\u001b[1m'nopython' keyword argument was not supplied to the 'numba.jit' decorator. The implicit default value for this \u001b[0m\n",
       "\u001b[1margument is currently False, but it will be changed to True in Numba 0.59.0. See \u001b[0m\n",
       "\u001b[1mhttps://numba.readthedocs.io/en/stable/reference/deprecation.html#deprecation-of-object-mode-fall-back-behaviour-wh\u001b[0m\n",
       "\u001b[1men-using-jit for details.\u001b[0m\n",
       "  out = numba.jit()(feval)\n"
      ]
     },
     "metadata": {},
     "output_type": "display_data"
    },
    {
     "data": {
      "text/html": [
       "<pre style=\"white-space:pre;overflow-x:auto;line-height:normal;font-family:Menlo,'DejaVu Sans Mono',consolas,'Courier New',monospace\">/usr/local/lib/python3.10/site-packages/coffea/lookup_tools/dense_mapped_lookup.py:28: NumbaDeprecationWarning: <span style=\"font-weight: bold\">The</span>\n",
       "<span style=\"font-weight: bold\">'nopython' keyword argument was not supplied to the 'numba.jit' decorator. The implicit default value for this </span>\n",
       "<span style=\"font-weight: bold\">argument is currently False, but it will be changed to True in Numba 0.59.0. See </span>\n",
       "<span style=\"font-weight: bold\">https://numba.readthedocs.io/en/stable/reference/deprecation.html#deprecation-of-object-mode-fall-back-behaviour-wh</span>\n",
       "<span style=\"font-weight: bold\">en-using-jit for details.</span>\n",
       "  out = numba.jit()(feval)\n",
       "</pre>\n"
      ],
      "text/plain": [
       "/usr/local/lib/python3.10/site-packages/coffea/lookup_tools/dense_mapped_lookup.py:28: NumbaDeprecationWarning: \u001b[1mThe\u001b[0m\n",
       "\u001b[1m'nopython' keyword argument was not supplied to the 'numba.jit' decorator. The implicit default value for this \u001b[0m\n",
       "\u001b[1margument is currently False, but it will be changed to True in Numba 0.59.0. See \u001b[0m\n",
       "\u001b[1mhttps://numba.readthedocs.io/en/stable/reference/deprecation.html#deprecation-of-object-mode-fall-back-behaviour-wh\u001b[0m\n",
       "\u001b[1men-using-jit for details.\u001b[0m\n",
       "  out = numba.jit()(feval)\n"
      ]
     },
     "metadata": {},
     "output_type": "display_data"
    },
    {
     "data": {
      "text/html": [
       "<pre style=\"white-space:pre;overflow-x:auto;line-height:normal;font-family:Menlo,'DejaVu Sans Mono',consolas,'Courier New',monospace\">/usr/local/lib/python3.10/site-packages/coffea/lookup_tools/dense_mapped_lookup.py:28: NumbaDeprecationWarning: <span style=\"font-weight: bold\">The</span>\n",
       "<span style=\"font-weight: bold\">'nopython' keyword argument was not supplied to the 'numba.jit' decorator. The implicit default value for this </span>\n",
       "<span style=\"font-weight: bold\">argument is currently False, but it will be changed to True in Numba 0.59.0. See </span>\n",
       "<span style=\"font-weight: bold\">https://numba.readthedocs.io/en/stable/reference/deprecation.html#deprecation-of-object-mode-fall-back-behaviour-wh</span>\n",
       "<span style=\"font-weight: bold\">en-using-jit for details.</span>\n",
       "  out = numba.jit()(feval)\n",
       "</pre>\n"
      ],
      "text/plain": [
       "/usr/local/lib/python3.10/site-packages/coffea/lookup_tools/dense_mapped_lookup.py:28: NumbaDeprecationWarning: \u001b[1mThe\u001b[0m\n",
       "\u001b[1m'nopython' keyword argument was not supplied to the 'numba.jit' decorator. The implicit default value for this \u001b[0m\n",
       "\u001b[1margument is currently False, but it will be changed to True in Numba 0.59.0. See \u001b[0m\n",
       "\u001b[1mhttps://numba.readthedocs.io/en/stable/reference/deprecation.html#deprecation-of-object-mode-fall-back-behaviour-wh\u001b[0m\n",
       "\u001b[1men-using-jit for details.\u001b[0m\n",
       "  out = numba.jit()(feval)\n"
      ]
     },
     "metadata": {},
     "output_type": "display_data"
    },
    {
     "data": {
      "text/html": [
       "<pre style=\"white-space:pre;overflow-x:auto;line-height:normal;font-family:Menlo,'DejaVu Sans Mono',consolas,'Courier New',monospace\">/usr/local/lib/python3.10/site-packages/coffea/lookup_tools/dense_mapped_lookup.py:28: NumbaDeprecationWarning: <span style=\"font-weight: bold\">The</span>\n",
       "<span style=\"font-weight: bold\">'nopython' keyword argument was not supplied to the 'numba.jit' decorator. The implicit default value for this </span>\n",
       "<span style=\"font-weight: bold\">argument is currently False, but it will be changed to True in Numba 0.59.0. See </span>\n",
       "<span style=\"font-weight: bold\">https://numba.readthedocs.io/en/stable/reference/deprecation.html#deprecation-of-object-mode-fall-back-behaviour-wh</span>\n",
       "<span style=\"font-weight: bold\">en-using-jit for details.</span>\n",
       "  out = numba.jit()(feval)\n",
       "</pre>\n"
      ],
      "text/plain": [
       "/usr/local/lib/python3.10/site-packages/coffea/lookup_tools/dense_mapped_lookup.py:28: NumbaDeprecationWarning: \u001b[1mThe\u001b[0m\n",
       "\u001b[1m'nopython' keyword argument was not supplied to the 'numba.jit' decorator. The implicit default value for this \u001b[0m\n",
       "\u001b[1margument is currently False, but it will be changed to True in Numba 0.59.0. See \u001b[0m\n",
       "\u001b[1mhttps://numba.readthedocs.io/en/stable/reference/deprecation.html#deprecation-of-object-mode-fall-back-behaviour-wh\u001b[0m\n",
       "\u001b[1men-using-jit for details.\u001b[0m\n",
       "  out = numba.jit()(feval)\n"
      ]
     },
     "metadata": {},
     "output_type": "display_data"
    },
    {
     "data": {
      "text/html": [
       "<pre style=\"white-space:pre;overflow-x:auto;line-height:normal;font-family:Menlo,'DejaVu Sans Mono',consolas,'Courier New',monospace\">/usr/local/lib/python3.10/site-packages/coffea/lookup_tools/dense_mapped_lookup.py:28: NumbaDeprecationWarning: <span style=\"font-weight: bold\">The</span>\n",
       "<span style=\"font-weight: bold\">'nopython' keyword argument was not supplied to the 'numba.jit' decorator. The implicit default value for this </span>\n",
       "<span style=\"font-weight: bold\">argument is currently False, but it will be changed to True in Numba 0.59.0. See </span>\n",
       "<span style=\"font-weight: bold\">https://numba.readthedocs.io/en/stable/reference/deprecation.html#deprecation-of-object-mode-fall-back-behaviour-wh</span>\n",
       "<span style=\"font-weight: bold\">en-using-jit for details.</span>\n",
       "  out = numba.jit()(feval)\n",
       "</pre>\n"
      ],
      "text/plain": [
       "/usr/local/lib/python3.10/site-packages/coffea/lookup_tools/dense_mapped_lookup.py:28: NumbaDeprecationWarning: \u001b[1mThe\u001b[0m\n",
       "\u001b[1m'nopython' keyword argument was not supplied to the 'numba.jit' decorator. The implicit default value for this \u001b[0m\n",
       "\u001b[1margument is currently False, but it will be changed to True in Numba 0.59.0. See \u001b[0m\n",
       "\u001b[1mhttps://numba.readthedocs.io/en/stable/reference/deprecation.html#deprecation-of-object-mode-fall-back-behaviour-wh\u001b[0m\n",
       "\u001b[1men-using-jit for details.\u001b[0m\n",
       "  out = numba.jit()(feval)\n"
      ]
     },
     "metadata": {},
     "output_type": "display_data"
    },
    {
     "data": {
      "text/html": [
       "<pre style=\"white-space:pre;overflow-x:auto;line-height:normal;font-family:Menlo,'DejaVu Sans Mono',consolas,'Courier New',monospace\">/usr/local/lib/python3.10/site-packages/coffea/lookup_tools/dense_mapped_lookup.py:28: NumbaDeprecationWarning: <span style=\"font-weight: bold\">The</span>\n",
       "<span style=\"font-weight: bold\">'nopython' keyword argument was not supplied to the 'numba.jit' decorator. The implicit default value for this </span>\n",
       "<span style=\"font-weight: bold\">argument is currently False, but it will be changed to True in Numba 0.59.0. See </span>\n",
       "<span style=\"font-weight: bold\">https://numba.readthedocs.io/en/stable/reference/deprecation.html#deprecation-of-object-mode-fall-back-behaviour-wh</span>\n",
       "<span style=\"font-weight: bold\">en-using-jit for details.</span>\n",
       "  out = numba.jit()(feval)\n",
       "</pre>\n"
      ],
      "text/plain": [
       "/usr/local/lib/python3.10/site-packages/coffea/lookup_tools/dense_mapped_lookup.py:28: NumbaDeprecationWarning: \u001b[1mThe\u001b[0m\n",
       "\u001b[1m'nopython' keyword argument was not supplied to the 'numba.jit' decorator. The implicit default value for this \u001b[0m\n",
       "\u001b[1margument is currently False, but it will be changed to True in Numba 0.59.0. See \u001b[0m\n",
       "\u001b[1mhttps://numba.readthedocs.io/en/stable/reference/deprecation.html#deprecation-of-object-mode-fall-back-behaviour-wh\u001b[0m\n",
       "\u001b[1men-using-jit for details.\u001b[0m\n",
       "  out = numba.jit()(feval)\n"
      ]
     },
     "metadata": {},
     "output_type": "display_data"
    },
    {
     "data": {
      "text/html": [
       "<pre style=\"white-space:pre;overflow-x:auto;line-height:normal;font-family:Menlo,'DejaVu Sans Mono',consolas,'Courier New',monospace\">/usr/local/lib/python3.10/site-packages/coffea/lookup_tools/dense_mapped_lookup.py:28: NumbaDeprecationWarning: <span style=\"font-weight: bold\">The</span>\n",
       "<span style=\"font-weight: bold\">'nopython' keyword argument was not supplied to the 'numba.jit' decorator. The implicit default value for this </span>\n",
       "<span style=\"font-weight: bold\">argument is currently False, but it will be changed to True in Numba 0.59.0. See </span>\n",
       "<span style=\"font-weight: bold\">https://numba.readthedocs.io/en/stable/reference/deprecation.html#deprecation-of-object-mode-fall-back-behaviour-wh</span>\n",
       "<span style=\"font-weight: bold\">en-using-jit for details.</span>\n",
       "  out = numba.jit()(feval)\n",
       "</pre>\n"
      ],
      "text/plain": [
       "/usr/local/lib/python3.10/site-packages/coffea/lookup_tools/dense_mapped_lookup.py:28: NumbaDeprecationWarning: \u001b[1mThe\u001b[0m\n",
       "\u001b[1m'nopython' keyword argument was not supplied to the 'numba.jit' decorator. The implicit default value for this \u001b[0m\n",
       "\u001b[1margument is currently False, but it will be changed to True in Numba 0.59.0. See \u001b[0m\n",
       "\u001b[1mhttps://numba.readthedocs.io/en/stable/reference/deprecation.html#deprecation-of-object-mode-fall-back-behaviour-wh\u001b[0m\n",
       "\u001b[1men-using-jit for details.\u001b[0m\n",
       "  out = numba.jit()(feval)\n"
      ]
     },
     "metadata": {},
     "output_type": "display_data"
    },
    {
     "data": {
      "text/html": [
       "<pre style=\"white-space:pre;overflow-x:auto;line-height:normal;font-family:Menlo,'DejaVu Sans Mono',consolas,'Courier New',monospace\">/usr/local/lib/python3.10/site-packages/coffea/lookup_tools/dense_mapped_lookup.py:28: NumbaDeprecationWarning: <span style=\"font-weight: bold\">The</span>\n",
       "<span style=\"font-weight: bold\">'nopython' keyword argument was not supplied to the 'numba.jit' decorator. The implicit default value for this </span>\n",
       "<span style=\"font-weight: bold\">argument is currently False, but it will be changed to True in Numba 0.59.0. See </span>\n",
       "<span style=\"font-weight: bold\">https://numba.readthedocs.io/en/stable/reference/deprecation.html#deprecation-of-object-mode-fall-back-behaviour-wh</span>\n",
       "<span style=\"font-weight: bold\">en-using-jit for details.</span>\n",
       "  out = numba.jit()(feval)\n",
       "</pre>\n"
      ],
      "text/plain": [
       "/usr/local/lib/python3.10/site-packages/coffea/lookup_tools/dense_mapped_lookup.py:28: NumbaDeprecationWarning: \u001b[1mThe\u001b[0m\n",
       "\u001b[1m'nopython' keyword argument was not supplied to the 'numba.jit' decorator. The implicit default value for this \u001b[0m\n",
       "\u001b[1margument is currently False, but it will be changed to True in Numba 0.59.0. See \u001b[0m\n",
       "\u001b[1mhttps://numba.readthedocs.io/en/stable/reference/deprecation.html#deprecation-of-object-mode-fall-back-behaviour-wh\u001b[0m\n",
       "\u001b[1men-using-jit for details.\u001b[0m\n",
       "  out = numba.jit()(feval)\n"
      ]
     },
     "metadata": {},
     "output_type": "display_data"
    },
    {
     "data": {
      "text/html": [
       "<pre style=\"white-space:pre;overflow-x:auto;line-height:normal;font-family:Menlo,'DejaVu Sans Mono',consolas,'Courier New',monospace\">/usr/local/lib/python3.10/site-packages/coffea/lookup_tools/dense_mapped_lookup.py:28: NumbaDeprecationWarning: <span style=\"font-weight: bold\">The</span>\n",
       "<span style=\"font-weight: bold\">'nopython' keyword argument was not supplied to the 'numba.jit' decorator. The implicit default value for this </span>\n",
       "<span style=\"font-weight: bold\">argument is currently False, but it will be changed to True in Numba 0.59.0. See </span>\n",
       "<span style=\"font-weight: bold\">https://numba.readthedocs.io/en/stable/reference/deprecation.html#deprecation-of-object-mode-fall-back-behaviour-wh</span>\n",
       "<span style=\"font-weight: bold\">en-using-jit for details.</span>\n",
       "  out = numba.jit()(feval)\n",
       "</pre>\n"
      ],
      "text/plain": [
       "/usr/local/lib/python3.10/site-packages/coffea/lookup_tools/dense_mapped_lookup.py:28: NumbaDeprecationWarning: \u001b[1mThe\u001b[0m\n",
       "\u001b[1m'nopython' keyword argument was not supplied to the 'numba.jit' decorator. The implicit default value for this \u001b[0m\n",
       "\u001b[1margument is currently False, but it will be changed to True in Numba 0.59.0. See \u001b[0m\n",
       "\u001b[1mhttps://numba.readthedocs.io/en/stable/reference/deprecation.html#deprecation-of-object-mode-fall-back-behaviour-wh\u001b[0m\n",
       "\u001b[1men-using-jit for details.\u001b[0m\n",
       "  out = numba.jit()(feval)\n"
      ]
     },
     "metadata": {},
     "output_type": "display_data"
    },
    {
     "data": {
      "text/html": [
       "<pre style=\"white-space:pre;overflow-x:auto;line-height:normal;font-family:Menlo,'DejaVu Sans Mono',consolas,'Courier New',monospace\">/usr/local/lib/python3.10/site-packages/coffea/lookup_tools/dense_mapped_lookup.py:28: NumbaDeprecationWarning: <span style=\"font-weight: bold\">The</span>\n",
       "<span style=\"font-weight: bold\">'nopython' keyword argument was not supplied to the 'numba.jit' decorator. The implicit default value for this </span>\n",
       "<span style=\"font-weight: bold\">argument is currently False, but it will be changed to True in Numba 0.59.0. See </span>\n",
       "<span style=\"font-weight: bold\">https://numba.readthedocs.io/en/stable/reference/deprecation.html#deprecation-of-object-mode-fall-back-behaviour-wh</span>\n",
       "<span style=\"font-weight: bold\">en-using-jit for details.</span>\n",
       "  out = numba.jit()(feval)\n",
       "</pre>\n"
      ],
      "text/plain": [
       "/usr/local/lib/python3.10/site-packages/coffea/lookup_tools/dense_mapped_lookup.py:28: NumbaDeprecationWarning: \u001b[1mThe\u001b[0m\n",
       "\u001b[1m'nopython' keyword argument was not supplied to the 'numba.jit' decorator. The implicit default value for this \u001b[0m\n",
       "\u001b[1margument is currently False, but it will be changed to True in Numba 0.59.0. See \u001b[0m\n",
       "\u001b[1mhttps://numba.readthedocs.io/en/stable/reference/deprecation.html#deprecation-of-object-mode-fall-back-behaviour-wh\u001b[0m\n",
       "\u001b[1men-using-jit for details.\u001b[0m\n",
       "  out = numba.jit()(feval)\n"
      ]
     },
     "metadata": {},
     "output_type": "display_data"
    },
    {
     "data": {
      "text/html": [
       "<pre style=\"white-space:pre;overflow-x:auto;line-height:normal;font-family:Menlo,'DejaVu Sans Mono',consolas,'Courier New',monospace\">/usr/local/lib/python3.10/site-packages/coffea/lookup_tools/dense_mapped_lookup.py:28: NumbaDeprecationWarning: <span style=\"font-weight: bold\">The</span>\n",
       "<span style=\"font-weight: bold\">'nopython' keyword argument was not supplied to the 'numba.jit' decorator. The implicit default value for this </span>\n",
       "<span style=\"font-weight: bold\">argument is currently False, but it will be changed to True in Numba 0.59.0. See </span>\n",
       "<span style=\"font-weight: bold\">https://numba.readthedocs.io/en/stable/reference/deprecation.html#deprecation-of-object-mode-fall-back-behaviour-wh</span>\n",
       "<span style=\"font-weight: bold\">en-using-jit for details.</span>\n",
       "  out = numba.jit()(feval)\n",
       "</pre>\n"
      ],
      "text/plain": [
       "/usr/local/lib/python3.10/site-packages/coffea/lookup_tools/dense_mapped_lookup.py:28: NumbaDeprecationWarning: \u001b[1mThe\u001b[0m\n",
       "\u001b[1m'nopython' keyword argument was not supplied to the 'numba.jit' decorator. The implicit default value for this \u001b[0m\n",
       "\u001b[1margument is currently False, but it will be changed to True in Numba 0.59.0. See \u001b[0m\n",
       "\u001b[1mhttps://numba.readthedocs.io/en/stable/reference/deprecation.html#deprecation-of-object-mode-fall-back-behaviour-wh\u001b[0m\n",
       "\u001b[1men-using-jit for details.\u001b[0m\n",
       "  out = numba.jit()(feval)\n"
      ]
     },
     "metadata": {},
     "output_type": "display_data"
    },
    {
     "data": {
      "text/html": [
       "<pre style=\"white-space:pre;overflow-x:auto;line-height:normal;font-family:Menlo,'DejaVu Sans Mono',consolas,'Courier New',monospace\">/usr/local/lib/python3.10/site-packages/coffea/lookup_tools/dense_mapped_lookup.py:28: NumbaDeprecationWarning: <span style=\"font-weight: bold\">The</span>\n",
       "<span style=\"font-weight: bold\">'nopython' keyword argument was not supplied to the 'numba.jit' decorator. The implicit default value for this </span>\n",
       "<span style=\"font-weight: bold\">argument is currently False, but it will be changed to True in Numba 0.59.0. See </span>\n",
       "<span style=\"font-weight: bold\">https://numba.readthedocs.io/en/stable/reference/deprecation.html#deprecation-of-object-mode-fall-back-behaviour-wh</span>\n",
       "<span style=\"font-weight: bold\">en-using-jit for details.</span>\n",
       "  out = numba.jit()(feval)\n",
       "</pre>\n"
      ],
      "text/plain": [
       "/usr/local/lib/python3.10/site-packages/coffea/lookup_tools/dense_mapped_lookup.py:28: NumbaDeprecationWarning: \u001b[1mThe\u001b[0m\n",
       "\u001b[1m'nopython' keyword argument was not supplied to the 'numba.jit' decorator. The implicit default value for this \u001b[0m\n",
       "\u001b[1margument is currently False, but it will be changed to True in Numba 0.59.0. See \u001b[0m\n",
       "\u001b[1mhttps://numba.readthedocs.io/en/stable/reference/deprecation.html#deprecation-of-object-mode-fall-back-behaviour-wh\u001b[0m\n",
       "\u001b[1men-using-jit for details.\u001b[0m\n",
       "  out = numba.jit()(feval)\n"
      ]
     },
     "metadata": {},
     "output_type": "display_data"
    },
    {
     "data": {
      "text/html": [
       "<pre style=\"white-space:pre;overflow-x:auto;line-height:normal;font-family:Menlo,'DejaVu Sans Mono',consolas,'Courier New',monospace\">/usr/local/lib/python3.10/site-packages/coffea/lookup_tools/dense_mapped_lookup.py:28: NumbaDeprecationWarning: <span style=\"font-weight: bold\">The</span>\n",
       "<span style=\"font-weight: bold\">'nopython' keyword argument was not supplied to the 'numba.jit' decorator. The implicit default value for this </span>\n",
       "<span style=\"font-weight: bold\">argument is currently False, but it will be changed to True in Numba 0.59.0. See </span>\n",
       "<span style=\"font-weight: bold\">https://numba.readthedocs.io/en/stable/reference/deprecation.html#deprecation-of-object-mode-fall-back-behaviour-wh</span>\n",
       "<span style=\"font-weight: bold\">en-using-jit for details.</span>\n",
       "  out = numba.jit()(feval)\n",
       "</pre>\n"
      ],
      "text/plain": [
       "/usr/local/lib/python3.10/site-packages/coffea/lookup_tools/dense_mapped_lookup.py:28: NumbaDeprecationWarning: \u001b[1mThe\u001b[0m\n",
       "\u001b[1m'nopython' keyword argument was not supplied to the 'numba.jit' decorator. The implicit default value for this \u001b[0m\n",
       "\u001b[1margument is currently False, but it will be changed to True in Numba 0.59.0. See \u001b[0m\n",
       "\u001b[1mhttps://numba.readthedocs.io/en/stable/reference/deprecation.html#deprecation-of-object-mode-fall-back-behaviour-wh\u001b[0m\n",
       "\u001b[1men-using-jit for details.\u001b[0m\n",
       "  out = numba.jit()(feval)\n"
      ]
     },
     "metadata": {},
     "output_type": "display_data"
    },
    {
     "data": {
      "text/html": [
       "<pre style=\"white-space:pre;overflow-x:auto;line-height:normal;font-family:Menlo,'DejaVu Sans Mono',consolas,'Courier New',monospace\">/usr/local/lib/python3.10/site-packages/coffea/lookup_tools/dense_mapped_lookup.py:28: NumbaDeprecationWarning: <span style=\"font-weight: bold\">The</span>\n",
       "<span style=\"font-weight: bold\">'nopython' keyword argument was not supplied to the 'numba.jit' decorator. The implicit default value for this </span>\n",
       "<span style=\"font-weight: bold\">argument is currently False, but it will be changed to True in Numba 0.59.0. See </span>\n",
       "<span style=\"font-weight: bold\">https://numba.readthedocs.io/en/stable/reference/deprecation.html#deprecation-of-object-mode-fall-back-behaviour-wh</span>\n",
       "<span style=\"font-weight: bold\">en-using-jit for details.</span>\n",
       "  out = numba.jit()(feval)\n",
       "</pre>\n"
      ],
      "text/plain": [
       "/usr/local/lib/python3.10/site-packages/coffea/lookup_tools/dense_mapped_lookup.py:28: NumbaDeprecationWarning: \u001b[1mThe\u001b[0m\n",
       "\u001b[1m'nopython' keyword argument was not supplied to the 'numba.jit' decorator. The implicit default value for this \u001b[0m\n",
       "\u001b[1margument is currently False, but it will be changed to True in Numba 0.59.0. See \u001b[0m\n",
       "\u001b[1mhttps://numba.readthedocs.io/en/stable/reference/deprecation.html#deprecation-of-object-mode-fall-back-behaviour-wh\u001b[0m\n",
       "\u001b[1men-using-jit for details.\u001b[0m\n",
       "  out = numba.jit()(feval)\n"
      ]
     },
     "metadata": {},
     "output_type": "display_data"
    },
    {
     "data": {
      "text/html": [
       "<pre style=\"white-space:pre;overflow-x:auto;line-height:normal;font-family:Menlo,'DejaVu Sans Mono',consolas,'Courier New',monospace\">/usr/local/lib/python3.10/site-packages/coffea/lookup_tools/dense_mapped_lookup.py:28: NumbaDeprecationWarning: <span style=\"font-weight: bold\">The</span>\n",
       "<span style=\"font-weight: bold\">'nopython' keyword argument was not supplied to the 'numba.jit' decorator. The implicit default value for this </span>\n",
       "<span style=\"font-weight: bold\">argument is currently False, but it will be changed to True in Numba 0.59.0. See </span>\n",
       "<span style=\"font-weight: bold\">https://numba.readthedocs.io/en/stable/reference/deprecation.html#deprecation-of-object-mode-fall-back-behaviour-wh</span>\n",
       "<span style=\"font-weight: bold\">en-using-jit for details.</span>\n",
       "  out = numba.jit()(feval)\n",
       "</pre>\n"
      ],
      "text/plain": [
       "/usr/local/lib/python3.10/site-packages/coffea/lookup_tools/dense_mapped_lookup.py:28: NumbaDeprecationWarning: \u001b[1mThe\u001b[0m\n",
       "\u001b[1m'nopython' keyword argument was not supplied to the 'numba.jit' decorator. The implicit default value for this \u001b[0m\n",
       "\u001b[1margument is currently False, but it will be changed to True in Numba 0.59.0. See \u001b[0m\n",
       "\u001b[1mhttps://numba.readthedocs.io/en/stable/reference/deprecation.html#deprecation-of-object-mode-fall-back-behaviour-wh\u001b[0m\n",
       "\u001b[1men-using-jit for details.\u001b[0m\n",
       "  out = numba.jit()(feval)\n"
      ]
     },
     "metadata": {},
     "output_type": "display_data"
    },
    {
     "data": {
      "text/html": [
       "<pre style=\"white-space:pre;overflow-x:auto;line-height:normal;font-family:Menlo,'DejaVu Sans Mono',consolas,'Courier New',monospace\">/usr/local/lib/python3.10/site-packages/coffea/lookup_tools/dense_mapped_lookup.py:28: NumbaDeprecationWarning: <span style=\"font-weight: bold\">The</span>\n",
       "<span style=\"font-weight: bold\">'nopython' keyword argument was not supplied to the 'numba.jit' decorator. The implicit default value for this </span>\n",
       "<span style=\"font-weight: bold\">argument is currently False, but it will be changed to True in Numba 0.59.0. See </span>\n",
       "<span style=\"font-weight: bold\">https://numba.readthedocs.io/en/stable/reference/deprecation.html#deprecation-of-object-mode-fall-back-behaviour-wh</span>\n",
       "<span style=\"font-weight: bold\">en-using-jit for details.</span>\n",
       "  out = numba.jit()(feval)\n",
       "</pre>\n"
      ],
      "text/plain": [
       "/usr/local/lib/python3.10/site-packages/coffea/lookup_tools/dense_mapped_lookup.py:28: NumbaDeprecationWarning: \u001b[1mThe\u001b[0m\n",
       "\u001b[1m'nopython' keyword argument was not supplied to the 'numba.jit' decorator. The implicit default value for this \u001b[0m\n",
       "\u001b[1margument is currently False, but it will be changed to True in Numba 0.59.0. See \u001b[0m\n",
       "\u001b[1mhttps://numba.readthedocs.io/en/stable/reference/deprecation.html#deprecation-of-object-mode-fall-back-behaviour-wh\u001b[0m\n",
       "\u001b[1men-using-jit for details.\u001b[0m\n",
       "  out = numba.jit()(feval)\n"
      ]
     },
     "metadata": {},
     "output_type": "display_data"
    },
    {
     "data": {
      "text/html": [
       "<pre style=\"white-space:pre;overflow-x:auto;line-height:normal;font-family:Menlo,'DejaVu Sans Mono',consolas,'Courier New',monospace\">/usr/local/lib/python3.10/site-packages/coffea/lookup_tools/dense_mapped_lookup.py:28: NumbaDeprecationWarning: <span style=\"font-weight: bold\">The</span>\n",
       "<span style=\"font-weight: bold\">'nopython' keyword argument was not supplied to the 'numba.jit' decorator. The implicit default value for this </span>\n",
       "<span style=\"font-weight: bold\">argument is currently False, but it will be changed to True in Numba 0.59.0. See </span>\n",
       "<span style=\"font-weight: bold\">https://numba.readthedocs.io/en/stable/reference/deprecation.html#deprecation-of-object-mode-fall-back-behaviour-wh</span>\n",
       "<span style=\"font-weight: bold\">en-using-jit for details.</span>\n",
       "  out = numba.jit()(feval)\n",
       "</pre>\n"
      ],
      "text/plain": [
       "/usr/local/lib/python3.10/site-packages/coffea/lookup_tools/dense_mapped_lookup.py:28: NumbaDeprecationWarning: \u001b[1mThe\u001b[0m\n",
       "\u001b[1m'nopython' keyword argument was not supplied to the 'numba.jit' decorator. The implicit default value for this \u001b[0m\n",
       "\u001b[1margument is currently False, but it will be changed to True in Numba 0.59.0. See \u001b[0m\n",
       "\u001b[1mhttps://numba.readthedocs.io/en/stable/reference/deprecation.html#deprecation-of-object-mode-fall-back-behaviour-wh\u001b[0m\n",
       "\u001b[1men-using-jit for details.\u001b[0m\n",
       "  out = numba.jit()(feval)\n"
      ]
     },
     "metadata": {},
     "output_type": "display_data"
    },
    {
     "data": {
      "text/html": [
       "<pre style=\"white-space:pre;overflow-x:auto;line-height:normal;font-family:Menlo,'DejaVu Sans Mono',consolas,'Courier New',monospace\">/usr/local/lib/python3.10/site-packages/coffea/lookup_tools/dense_mapped_lookup.py:28: NumbaDeprecationWarning: <span style=\"font-weight: bold\">The</span>\n",
       "<span style=\"font-weight: bold\">'nopython' keyword argument was not supplied to the 'numba.jit' decorator. The implicit default value for this </span>\n",
       "<span style=\"font-weight: bold\">argument is currently False, but it will be changed to True in Numba 0.59.0. See </span>\n",
       "<span style=\"font-weight: bold\">https://numba.readthedocs.io/en/stable/reference/deprecation.html#deprecation-of-object-mode-fall-back-behaviour-wh</span>\n",
       "<span style=\"font-weight: bold\">en-using-jit for details.</span>\n",
       "  out = numba.jit()(feval)\n",
       "</pre>\n"
      ],
      "text/plain": [
       "/usr/local/lib/python3.10/site-packages/coffea/lookup_tools/dense_mapped_lookup.py:28: NumbaDeprecationWarning: \u001b[1mThe\u001b[0m\n",
       "\u001b[1m'nopython' keyword argument was not supplied to the 'numba.jit' decorator. The implicit default value for this \u001b[0m\n",
       "\u001b[1margument is currently False, but it will be changed to True in Numba 0.59.0. See \u001b[0m\n",
       "\u001b[1mhttps://numba.readthedocs.io/en/stable/reference/deprecation.html#deprecation-of-object-mode-fall-back-behaviour-wh\u001b[0m\n",
       "\u001b[1men-using-jit for details.\u001b[0m\n",
       "  out = numba.jit()(feval)\n"
      ]
     },
     "metadata": {},
     "output_type": "display_data"
    },
    {
     "data": {
      "text/html": [
       "<pre style=\"white-space:pre;overflow-x:auto;line-height:normal;font-family:Menlo,'DejaVu Sans Mono',consolas,'Courier New',monospace\">/usr/local/lib/python3.10/site-packages/coffea/lookup_tools/dense_mapped_lookup.py:28: NumbaDeprecationWarning: <span style=\"font-weight: bold\">The</span>\n",
       "<span style=\"font-weight: bold\">'nopython' keyword argument was not supplied to the 'numba.jit' decorator. The implicit default value for this </span>\n",
       "<span style=\"font-weight: bold\">argument is currently False, but it will be changed to True in Numba 0.59.0. See </span>\n",
       "<span style=\"font-weight: bold\">https://numba.readthedocs.io/en/stable/reference/deprecation.html#deprecation-of-object-mode-fall-back-behaviour-wh</span>\n",
       "<span style=\"font-weight: bold\">en-using-jit for details.</span>\n",
       "  out = numba.jit()(feval)\n",
       "</pre>\n"
      ],
      "text/plain": [
       "/usr/local/lib/python3.10/site-packages/coffea/lookup_tools/dense_mapped_lookup.py:28: NumbaDeprecationWarning: \u001b[1mThe\u001b[0m\n",
       "\u001b[1m'nopython' keyword argument was not supplied to the 'numba.jit' decorator. The implicit default value for this \u001b[0m\n",
       "\u001b[1margument is currently False, but it will be changed to True in Numba 0.59.0. See \u001b[0m\n",
       "\u001b[1mhttps://numba.readthedocs.io/en/stable/reference/deprecation.html#deprecation-of-object-mode-fall-back-behaviour-wh\u001b[0m\n",
       "\u001b[1men-using-jit for details.\u001b[0m\n",
       "  out = numba.jit()(feval)\n"
      ]
     },
     "metadata": {},
     "output_type": "display_data"
    },
    {
     "data": {
      "text/html": [
       "<pre style=\"white-space:pre;overflow-x:auto;line-height:normal;font-family:Menlo,'DejaVu Sans Mono',consolas,'Courier New',monospace\">/usr/local/lib/python3.10/site-packages/coffea/lookup_tools/dense_mapped_lookup.py:28: NumbaDeprecationWarning: <span style=\"font-weight: bold\">The</span>\n",
       "<span style=\"font-weight: bold\">'nopython' keyword argument was not supplied to the 'numba.jit' decorator. The implicit default value for this </span>\n",
       "<span style=\"font-weight: bold\">argument is currently False, but it will be changed to True in Numba 0.59.0. See </span>\n",
       "<span style=\"font-weight: bold\">https://numba.readthedocs.io/en/stable/reference/deprecation.html#deprecation-of-object-mode-fall-back-behaviour-wh</span>\n",
       "<span style=\"font-weight: bold\">en-using-jit for details.</span>\n",
       "  out = numba.jit()(feval)\n",
       "</pre>\n"
      ],
      "text/plain": [
       "/usr/local/lib/python3.10/site-packages/coffea/lookup_tools/dense_mapped_lookup.py:28: NumbaDeprecationWarning: \u001b[1mThe\u001b[0m\n",
       "\u001b[1m'nopython' keyword argument was not supplied to the 'numba.jit' decorator. The implicit default value for this \u001b[0m\n",
       "\u001b[1margument is currently False, but it will be changed to True in Numba 0.59.0. See \u001b[0m\n",
       "\u001b[1mhttps://numba.readthedocs.io/en/stable/reference/deprecation.html#deprecation-of-object-mode-fall-back-behaviour-wh\u001b[0m\n",
       "\u001b[1men-using-jit for details.\u001b[0m\n",
       "  out = numba.jit()(feval)\n"
      ]
     },
     "metadata": {},
     "output_type": "display_data"
    },
    {
     "data": {
      "text/html": [
       "<pre style=\"white-space:pre;overflow-x:auto;line-height:normal;font-family:Menlo,'DejaVu Sans Mono',consolas,'Courier New',monospace\">/usr/local/lib/python3.10/site-packages/coffea/lookup_tools/dense_mapped_lookup.py:28: NumbaDeprecationWarning: <span style=\"font-weight: bold\">The</span>\n",
       "<span style=\"font-weight: bold\">'nopython' keyword argument was not supplied to the 'numba.jit' decorator. The implicit default value for this </span>\n",
       "<span style=\"font-weight: bold\">argument is currently False, but it will be changed to True in Numba 0.59.0. See </span>\n",
       "<span style=\"font-weight: bold\">https://numba.readthedocs.io/en/stable/reference/deprecation.html#deprecation-of-object-mode-fall-back-behaviour-wh</span>\n",
       "<span style=\"font-weight: bold\">en-using-jit for details.</span>\n",
       "  out = numba.jit()(feval)\n",
       "</pre>\n"
      ],
      "text/plain": [
       "/usr/local/lib/python3.10/site-packages/coffea/lookup_tools/dense_mapped_lookup.py:28: NumbaDeprecationWarning: \u001b[1mThe\u001b[0m\n",
       "\u001b[1m'nopython' keyword argument was not supplied to the 'numba.jit' decorator. The implicit default value for this \u001b[0m\n",
       "\u001b[1margument is currently False, but it will be changed to True in Numba 0.59.0. See \u001b[0m\n",
       "\u001b[1mhttps://numba.readthedocs.io/en/stable/reference/deprecation.html#deprecation-of-object-mode-fall-back-behaviour-wh\u001b[0m\n",
       "\u001b[1men-using-jit for details.\u001b[0m\n",
       "  out = numba.jit()(feval)\n"
      ]
     },
     "metadata": {},
     "output_type": "display_data"
    },
    {
     "data": {
      "text/html": [
       "<pre style=\"white-space:pre;overflow-x:auto;line-height:normal;font-family:Menlo,'DejaVu Sans Mono',consolas,'Courier New',monospace\">/usr/local/lib/python3.10/site-packages/coffea/lookup_tools/dense_mapped_lookup.py:28: NumbaDeprecationWarning: <span style=\"font-weight: bold\">The</span>\n",
       "<span style=\"font-weight: bold\">'nopython' keyword argument was not supplied to the 'numba.jit' decorator. The implicit default value for this </span>\n",
       "<span style=\"font-weight: bold\">argument is currently False, but it will be changed to True in Numba 0.59.0. See </span>\n",
       "<span style=\"font-weight: bold\">https://numba.readthedocs.io/en/stable/reference/deprecation.html#deprecation-of-object-mode-fall-back-behaviour-wh</span>\n",
       "<span style=\"font-weight: bold\">en-using-jit for details.</span>\n",
       "  out = numba.jit()(feval)\n",
       "</pre>\n"
      ],
      "text/plain": [
       "/usr/local/lib/python3.10/site-packages/coffea/lookup_tools/dense_mapped_lookup.py:28: NumbaDeprecationWarning: \u001b[1mThe\u001b[0m\n",
       "\u001b[1m'nopython' keyword argument was not supplied to the 'numba.jit' decorator. The implicit default value for this \u001b[0m\n",
       "\u001b[1margument is currently False, but it will be changed to True in Numba 0.59.0. See \u001b[0m\n",
       "\u001b[1mhttps://numba.readthedocs.io/en/stable/reference/deprecation.html#deprecation-of-object-mode-fall-back-behaviour-wh\u001b[0m\n",
       "\u001b[1men-using-jit for details.\u001b[0m\n",
       "  out = numba.jit()(feval)\n"
      ]
     },
     "metadata": {},
     "output_type": "display_data"
    },
    {
     "data": {
      "text/html": [
       "<pre style=\"white-space:pre;overflow-x:auto;line-height:normal;font-family:Menlo,'DejaVu Sans Mono',consolas,'Courier New',monospace\">/usr/local/lib/python3.10/site-packages/coffea/lookup_tools/dense_mapped_lookup.py:28: NumbaDeprecationWarning: <span style=\"font-weight: bold\">The</span>\n",
       "<span style=\"font-weight: bold\">'nopython' keyword argument was not supplied to the 'numba.jit' decorator. The implicit default value for this </span>\n",
       "<span style=\"font-weight: bold\">argument is currently False, but it will be changed to True in Numba 0.59.0. See </span>\n",
       "<span style=\"font-weight: bold\">https://numba.readthedocs.io/en/stable/reference/deprecation.html#deprecation-of-object-mode-fall-back-behaviour-wh</span>\n",
       "<span style=\"font-weight: bold\">en-using-jit for details.</span>\n",
       "  out = numba.jit()(feval)\n",
       "</pre>\n"
      ],
      "text/plain": [
       "/usr/local/lib/python3.10/site-packages/coffea/lookup_tools/dense_mapped_lookup.py:28: NumbaDeprecationWarning: \u001b[1mThe\u001b[0m\n",
       "\u001b[1m'nopython' keyword argument was not supplied to the 'numba.jit' decorator. The implicit default value for this \u001b[0m\n",
       "\u001b[1margument is currently False, but it will be changed to True in Numba 0.59.0. See \u001b[0m\n",
       "\u001b[1mhttps://numba.readthedocs.io/en/stable/reference/deprecation.html#deprecation-of-object-mode-fall-back-behaviour-wh\u001b[0m\n",
       "\u001b[1men-using-jit for details.\u001b[0m\n",
       "  out = numba.jit()(feval)\n"
      ]
     },
     "metadata": {},
     "output_type": "display_data"
    },
    {
     "data": {
      "text/html": [
       "<pre style=\"white-space:pre;overflow-x:auto;line-height:normal;font-family:Menlo,'DejaVu Sans Mono',consolas,'Courier New',monospace\">/usr/local/lib/python3.10/site-packages/coffea/lookup_tools/dense_mapped_lookup.py:28: NumbaDeprecationWarning: <span style=\"font-weight: bold\">The</span>\n",
       "<span style=\"font-weight: bold\">'nopython' keyword argument was not supplied to the 'numba.jit' decorator. The implicit default value for this </span>\n",
       "<span style=\"font-weight: bold\">argument is currently False, but it will be changed to True in Numba 0.59.0. See </span>\n",
       "<span style=\"font-weight: bold\">https://numba.readthedocs.io/en/stable/reference/deprecation.html#deprecation-of-object-mode-fall-back-behaviour-wh</span>\n",
       "<span style=\"font-weight: bold\">en-using-jit for details.</span>\n",
       "  out = numba.jit()(feval)\n",
       "</pre>\n"
      ],
      "text/plain": [
       "/usr/local/lib/python3.10/site-packages/coffea/lookup_tools/dense_mapped_lookup.py:28: NumbaDeprecationWarning: \u001b[1mThe\u001b[0m\n",
       "\u001b[1m'nopython' keyword argument was not supplied to the 'numba.jit' decorator. The implicit default value for this \u001b[0m\n",
       "\u001b[1margument is currently False, but it will be changed to True in Numba 0.59.0. See \u001b[0m\n",
       "\u001b[1mhttps://numba.readthedocs.io/en/stable/reference/deprecation.html#deprecation-of-object-mode-fall-back-behaviour-wh\u001b[0m\n",
       "\u001b[1men-using-jit for details.\u001b[0m\n",
       "  out = numba.jit()(feval)\n"
      ]
     },
     "metadata": {},
     "output_type": "display_data"
    },
    {
     "data": {
      "text/html": [
       "<pre style=\"white-space:pre;overflow-x:auto;line-height:normal;font-family:Menlo,'DejaVu Sans Mono',consolas,'Courier New',monospace\">/usr/local/lib/python3.10/site-packages/coffea/lookup_tools/dense_mapped_lookup.py:28: NumbaDeprecationWarning: <span style=\"font-weight: bold\">The</span>\n",
       "<span style=\"font-weight: bold\">'nopython' keyword argument was not supplied to the 'numba.jit' decorator. The implicit default value for this </span>\n",
       "<span style=\"font-weight: bold\">argument is currently False, but it will be changed to True in Numba 0.59.0. See </span>\n",
       "<span style=\"font-weight: bold\">https://numba.readthedocs.io/en/stable/reference/deprecation.html#deprecation-of-object-mode-fall-back-behaviour-wh</span>\n",
       "<span style=\"font-weight: bold\">en-using-jit for details.</span>\n",
       "  out = numba.jit()(feval)\n",
       "</pre>\n"
      ],
      "text/plain": [
       "/usr/local/lib/python3.10/site-packages/coffea/lookup_tools/dense_mapped_lookup.py:28: NumbaDeprecationWarning: \u001b[1mThe\u001b[0m\n",
       "\u001b[1m'nopython' keyword argument was not supplied to the 'numba.jit' decorator. The implicit default value for this \u001b[0m\n",
       "\u001b[1margument is currently False, but it will be changed to True in Numba 0.59.0. See \u001b[0m\n",
       "\u001b[1mhttps://numba.readthedocs.io/en/stable/reference/deprecation.html#deprecation-of-object-mode-fall-back-behaviour-wh\u001b[0m\n",
       "\u001b[1men-using-jit for details.\u001b[0m\n",
       "  out = numba.jit()(feval)\n"
      ]
     },
     "metadata": {},
     "output_type": "display_data"
    },
    {
     "data": {
      "text/html": [
       "<pre style=\"white-space:pre;overflow-x:auto;line-height:normal;font-family:Menlo,'DejaVu Sans Mono',consolas,'Courier New',monospace\">/usr/local/lib/python3.10/site-packages/coffea/lookup_tools/dense_mapped_lookup.py:28: NumbaDeprecationWarning: <span style=\"font-weight: bold\">The</span>\n",
       "<span style=\"font-weight: bold\">'nopython' keyword argument was not supplied to the 'numba.jit' decorator. The implicit default value for this </span>\n",
       "<span style=\"font-weight: bold\">argument is currently False, but it will be changed to True in Numba 0.59.0. See </span>\n",
       "<span style=\"font-weight: bold\">https://numba.readthedocs.io/en/stable/reference/deprecation.html#deprecation-of-object-mode-fall-back-behaviour-wh</span>\n",
       "<span style=\"font-weight: bold\">en-using-jit for details.</span>\n",
       "  out = numba.jit()(feval)\n",
       "</pre>\n"
      ],
      "text/plain": [
       "/usr/local/lib/python3.10/site-packages/coffea/lookup_tools/dense_mapped_lookup.py:28: NumbaDeprecationWarning: \u001b[1mThe\u001b[0m\n",
       "\u001b[1m'nopython' keyword argument was not supplied to the 'numba.jit' decorator. The implicit default value for this \u001b[0m\n",
       "\u001b[1margument is currently False, but it will be changed to True in Numba 0.59.0. See \u001b[0m\n",
       "\u001b[1mhttps://numba.readthedocs.io/en/stable/reference/deprecation.html#deprecation-of-object-mode-fall-back-behaviour-wh\u001b[0m\n",
       "\u001b[1men-using-jit for details.\u001b[0m\n",
       "  out = numba.jit()(feval)\n"
      ]
     },
     "metadata": {},
     "output_type": "display_data"
    },
    {
     "data": {
      "text/html": [
       "<pre style=\"white-space:pre;overflow-x:auto;line-height:normal;font-family:Menlo,'DejaVu Sans Mono',consolas,'Courier New',monospace\"></pre>\n"
      ],
      "text/plain": []
     },
     "metadata": {},
     "output_type": "display_data"
    },
    {
     "data": {
      "text/html": [
       "<pre style=\"white-space:pre;overflow-x:auto;line-height:normal;font-family:Menlo,'DejaVu Sans Mono',consolas,'Courier New',monospace\">\n",
       "</pre>\n"
      ],
      "text/plain": [
       "\n"
      ]
     },
     "metadata": {},
     "output_type": "display_data"
    },
    {
     "name": "stdout",
     "output_type": "stream",
     "text": [
      "Total time: 26.2 seconds\n"
     ]
    }
   ],
   "source": [
    "#autoreload forces the kernel to reload the processor to include any new changes\n",
    "%autoreload 2\n",
    "from ttgamma import TTGammaProcessor\n",
    "\n",
    "tstart = time.time()\n",
    "\n",
    "#Run Coffea code using uproot\n",
    "iterative_run = processor.Runner(\n",
    "    executor = processor.IterativeExecutor(compression=None),\n",
    "    schema=NanoAODSchema,\n",
    "    chunksize=40_000,\n",
    "    maxchunks=1,\n",
    ")\n",
    "output = iterative_run(\n",
    "    fileset,\n",
    "    treename=\"Events\",\n",
    "    processor_instance=TTGammaProcessor(isMC=True),\n",
    ")\n",
    "\n",
    "elapsed = time.time() - tstart\n",
    "print(\"Total time: %.1f seconds\"%elapsed)"
   ]
  },
  {
   "cell_type": "code",
   "execution_count": 4,
   "metadata": {},
   "outputs": [
    {
     "data": {
      "text/plain": [
       "{'ZGamma_01J_5f_lowMass': {'all_photon_pt': Hist(Regular(200, 0, 1000, name='pt', label='$p_{T}$ [GeV]'), storage=Weight()) # Sum: WeightedSum(value=80365, variance=80365) (WeightedSum(value=80366, variance=80366) with flow),\n",
       "  'photon_pt': Hist(\n",
       "    Regular(200, 0, 1000, name='pt', label='$p_{T}$ [GeV]'),\n",
       "    IntCategory([1, 2, 3, 4, 5], name='category', label='Photon Category'),\n",
       "    StrCategory(['electron', 'muon'], growth=True, name='lepFlavor', label='Lepton flavor'),\n",
       "    StrCategory(['nominal', 'ISRUp', 'ISRDown', 'FSRUp', 'FSRDown', 'PDFUp', 'PDFDown', 'puWeightUp', 'puWeightDown', 'btagWeightUp', 'btagWeightDown', 'JESUp', 'JESDown', 'JERUp', 'JERDown'], growth=True, name='systematic', label='Systematic uncertainty'),\n",
       "    storage=Weight()) # Sum: WeightedSum(value=86.0199, variance=88.3234),\n",
       "  'photon_chIso': Hist(\n",
       "    Regular(200, 0, 10, name='chIso', label='Charged Hadron Isolation'),\n",
       "    IntCategory([1, 2, 3, 4, 5], name='category', label='Photon Category'),\n",
       "    StrCategory(['electron', 'muon'], growth=True, name='lepFlavor', label='Lepton flavor'),\n",
       "    StrCategory(['nominal', 'ISRUp', 'ISRDown', 'FSRUp', 'FSRDown', 'PDFUp', 'PDFDown', 'puWeightUp', 'puWeightDown', 'btagWeightUp', 'btagWeightDown', 'JESUp', 'JESDown', 'JERUp', 'JERDown'], growth=True, name='systematic', label='Systematic uncertainty'),\n",
       "    storage=Weight()) # Sum: WeightedSum(value=86.0199, variance=88.3234),\n",
       "  'photon_lepton_mass_3j0t': Hist(\n",
       "    Regular(200, 0, 200, name='mass', label='$m_{\\\\ell\\\\gamma}$ [GeV]'),\n",
       "    IntCategory([1, 2, 3, 4, 5], name='category', label='Photon Category'),\n",
       "    StrCategory([], growth=True, name='lepFlavor', label='Lepton flavor'),\n",
       "    StrCategory([], growth=True, name='systematic', label='Systematic uncertainty'),\n",
       "    storage=Weight()) # Sum: WeightedSum(value=0, variance=0),\n",
       "  'M3': Hist(\n",
       "    Regular(80, 0, 1000, name='M3', label='$M_3$ [GeV]'),\n",
       "    IntCategory([1, 2, 3, 4, 5], name='category', label='Photon Category'),\n",
       "    StrCategory([], growth=True, name='lepFlavor', label='Lepton flavor'),\n",
       "    StrCategory([], growth=True, name='systematic', label='Systematic uncertainty'),\n",
       "    storage=Weight()) # Sum: WeightedSum(value=0, variance=0),\n",
       "  'EventCount': 41900},\n",
       " 'WGamma_01J_5f': {'all_photon_pt': Hist(Regular(200, 0, 1000, name='pt', label='$p_{T}$ [GeV]'), storage=Weight()) # Sum: WeightedSum(value=67416, variance=67416) (WeightedSum(value=67417, variance=67417) with flow),\n",
       "  'photon_pt': Hist(\n",
       "    Regular(200, 0, 1000, name='pt', label='$p_{T}$ [GeV]'),\n",
       "    IntCategory([1, 2, 3, 4, 5], name='category', label='Photon Category'),\n",
       "    StrCategory(['electron', 'muon'], growth=True, name='lepFlavor', label='Lepton flavor'),\n",
       "    StrCategory(['nominal', 'ISRUp', 'ISRDown', 'FSRUp', 'FSRDown', 'PDFUp', 'PDFDown', 'puWeightUp', 'puWeightDown', 'btagWeightUp', 'btagWeightDown', 'JESUp', 'JESDown', 'JERUp', 'JERDown'], growth=True, name='systematic', label='Systematic uncertainty'),\n",
       "    storage=Weight()) # Sum: WeightedSum(value=291.115, variance=300.514),\n",
       "  'photon_chIso': Hist(\n",
       "    Regular(200, 0, 10, name='chIso', label='Charged Hadron Isolation'),\n",
       "    IntCategory([1, 2, 3, 4, 5], name='category', label='Photon Category'),\n",
       "    StrCategory(['electron', 'muon'], growth=True, name='lepFlavor', label='Lepton flavor'),\n",
       "    StrCategory(['nominal', 'ISRUp', 'ISRDown', 'FSRUp', 'FSRDown', 'PDFUp', 'PDFDown', 'puWeightUp', 'puWeightDown', 'btagWeightUp', 'btagWeightDown', 'JESUp', 'JESDown', 'JERUp', 'JERDown'], growth=True, name='systematic', label='Systematic uncertainty'),\n",
       "    storage=Weight()) # Sum: WeightedSum(value=291.115, variance=300.514),\n",
       "  'photon_lepton_mass_3j0t': Hist(\n",
       "    Regular(200, 0, 200, name='mass', label='$m_{\\\\ell\\\\gamma}$ [GeV]'),\n",
       "    IntCategory([1, 2, 3, 4, 5], name='category', label='Photon Category'),\n",
       "    StrCategory([], growth=True, name='lepFlavor', label='Lepton flavor'),\n",
       "    StrCategory([], growth=True, name='systematic', label='Systematic uncertainty'),\n",
       "    storage=Weight()) # Sum: WeightedSum(value=0, variance=0),\n",
       "  'M3': Hist(\n",
       "    Regular(80, 0, 1000, name='M3', label='$M_3$ [GeV]'),\n",
       "    IntCategory([1, 2, 3, 4, 5], name='category', label='Photon Category'),\n",
       "    StrCategory([], growth=True, name='lepFlavor', label='Lepton flavor'),\n",
       "    StrCategory([], growth=True, name='systematic', label='Systematic uncertainty'),\n",
       "    storage=Weight()) # Sum: WeightedSum(value=0, variance=0),\n",
       "  'EventCount': 40375},\n",
       " 'W4jets': {'all_photon_pt': Hist(Regular(200, 0, 1000, name='pt', label='$p_{T}$ [GeV]'), storage=Weight()) # Sum: WeightedSum(value=42285, variance=42285) (WeightedSum(value=42286, variance=42286) with flow),\n",
       "  'photon_pt': Hist(\n",
       "    Regular(200, 0, 1000, name='pt', label='$p_{T}$ [GeV]'),\n",
       "    IntCategory([1, 2, 3, 4, 5], name='category', label='Photon Category'),\n",
       "    StrCategory([], growth=True, name='lepFlavor', label='Lepton flavor'),\n",
       "    StrCategory([], growth=True, name='systematic', label='Systematic uncertainty'),\n",
       "    storage=Weight()) # Sum: WeightedSum(value=0, variance=0),\n",
       "  'photon_chIso': Hist(\n",
       "    Regular(200, 0, 10, name='chIso', label='Charged Hadron Isolation'),\n",
       "    IntCategory([1, 2, 3, 4, 5], name='category', label='Photon Category'),\n",
       "    StrCategory([], growth=True, name='lepFlavor', label='Lepton flavor'),\n",
       "    StrCategory([], growth=True, name='systematic', label='Systematic uncertainty'),\n",
       "    storage=Weight()) # Sum: WeightedSum(value=0, variance=0),\n",
       "  'photon_lepton_mass_3j0t': Hist(\n",
       "    Regular(200, 0, 200, name='mass', label='$m_{\\\\ell\\\\gamma}$ [GeV]'),\n",
       "    IntCategory([1, 2, 3, 4, 5], name='category', label='Photon Category'),\n",
       "    StrCategory([], growth=True, name='lepFlavor', label='Lepton flavor'),\n",
       "    StrCategory([], growth=True, name='systematic', label='Systematic uncertainty'),\n",
       "    storage=Weight()) # Sum: WeightedSum(value=0, variance=0),\n",
       "  'M3': Hist(\n",
       "    Regular(80, 0, 1000, name='M3', label='$M_3$ [GeV]'),\n",
       "    IntCategory([1, 2, 3, 4, 5], name='category', label='Photon Category'),\n",
       "    StrCategory([], growth=True, name='lepFlavor', label='Lepton flavor'),\n",
       "    StrCategory([], growth=True, name='systematic', label='Systematic uncertainty'),\n",
       "    storage=Weight()) # Sum: WeightedSum(value=0, variance=0),\n",
       "  'EventCount': 37517},\n",
       " 'TTbarPowheg_Semilept': {'all_photon_pt': Hist(Regular(200, 0, 1000, name='pt', label='$p_{T}$ [GeV]'), storage=Weight()) # Sum: WeightedSum(value=63405, variance=63405),\n",
       "  'photon_pt': Hist(\n",
       "    Regular(200, 0, 1000, name='pt', label='$p_{T}$ [GeV]'),\n",
       "    IntCategory([1, 2, 3, 4, 5], name='category', label='Photon Category'),\n",
       "    StrCategory(['electron', 'muon'], growth=True, name='lepFlavor', label='Lepton flavor'),\n",
       "    StrCategory(['nominal', 'ISRUp', 'ISRDown', 'FSRUp', 'FSRDown', 'PDFUp', 'PDFDown', 'puWeightUp', 'puWeightDown', 'btagWeightUp', 'btagWeightDown', 'JESUp', 'JESDown', 'JERUp', 'JERDown'], growth=True, name='systematic', label='Systematic uncertainty'),\n",
       "    storage=Weight()) # Sum: WeightedSum(value=84.8666, variance=87.9954) (WeightedSum(value=185.367, variance=193.084) with flow),\n",
       "  'photon_chIso': Hist(\n",
       "    Regular(200, 0, 10, name='chIso', label='Charged Hadron Isolation'),\n",
       "    IntCategory([1, 2, 3, 4, 5], name='category', label='Photon Category'),\n",
       "    StrCategory(['electron', 'muon'], growth=True, name='lepFlavor', label='Lepton flavor'),\n",
       "    StrCategory(['nominal', 'ISRUp', 'ISRDown', 'FSRUp', 'FSRDown', 'PDFUp', 'PDFDown', 'puWeightUp', 'puWeightDown', 'btagWeightUp', 'btagWeightDown', 'JESUp', 'JESDown', 'JERUp', 'JERDown'], growth=True, name='systematic', label='Systematic uncertainty'),\n",
       "    storage=Weight()) # Sum: WeightedSum(value=84.8666, variance=87.9954) (WeightedSum(value=185.367, variance=193.084) with flow),\n",
       "  'photon_lepton_mass_3j0t': Hist(\n",
       "    Regular(200, 0, 200, name='mass', label='$m_{\\\\ell\\\\gamma}$ [GeV]'),\n",
       "    IntCategory([1, 2, 3, 4, 5], name='category', label='Photon Category'),\n",
       "    StrCategory([], growth=True, name='lepFlavor', label='Lepton flavor'),\n",
       "    StrCategory([], growth=True, name='systematic', label='Systematic uncertainty'),\n",
       "    storage=Weight()) # Sum: WeightedSum(value=0, variance=0),\n",
       "  'M3': Hist(\n",
       "    Regular(80, 0, 1000, name='M3', label='$M_3$ [GeV]'),\n",
       "    IntCategory([1, 2, 3, 4, 5], name='category', label='Photon Category'),\n",
       "    StrCategory([], growth=True, name='lepFlavor', label='Lepton flavor'),\n",
       "    StrCategory([], growth=True, name='systematic', label='Systematic uncertainty'),\n",
       "    storage=Weight()) # Sum: WeightedSum(value=0, variance=0),\n",
       "  'EventCount': 41069},\n",
       " 'TTGamma_SingleLept': {'all_photon_pt': Hist(Regular(200, 0, 1000, name='pt', label='$p_{T}$ [GeV]'), storage=Weight()) # Sum: WeightedSum(value=94897, variance=94897),\n",
       "  'photon_pt': Hist(\n",
       "    Regular(200, 0, 1000, name='pt', label='$p_{T}$ [GeV]'),\n",
       "    IntCategory([1, 2, 3, 4, 5], name='category', label='Photon Category'),\n",
       "    StrCategory(['electron', 'muon'], growth=True, name='lepFlavor', label='Lepton flavor'),\n",
       "    StrCategory(['nominal', 'ISRUp', 'ISRDown', 'FSRUp', 'FSRDown', 'PDFUp', 'PDFDown', 'puWeightUp', 'puWeightDown', 'btagWeightUp', 'btagWeightDown', 'Q2Scale0Up', 'Q2Scale1Up', 'Q2Scale2Up', 'Q2Scale3Up', 'Q2Scale4Up', 'Q2Scale5Up', 'JESUp', 'JESDown', 'JERUp', 'JERDown'], growth=True, name='systematic', label='Systematic uncertainty'),\n",
       "    storage=Weight()) # Sum: WeightedSum(value=40656.5, variance=43700.1) (WeightedSum(value=40934.4, variance=43994.8) with flow),\n",
       "  'photon_chIso': Hist(\n",
       "    Regular(200, 0, 10, name='chIso', label='Charged Hadron Isolation'),\n",
       "    IntCategory([1, 2, 3, 4, 5], name='category', label='Photon Category'),\n",
       "    StrCategory(['electron', 'muon'], growth=True, name='lepFlavor', label='Lepton flavor'),\n",
       "    StrCategory(['nominal', 'ISRUp', 'ISRDown', 'FSRUp', 'FSRDown', 'PDFUp', 'PDFDown', 'puWeightUp', 'puWeightDown', 'btagWeightUp', 'btagWeightDown', 'Q2Scale0Up', 'Q2Scale1Up', 'Q2Scale2Up', 'Q2Scale3Up', 'Q2Scale4Up', 'Q2Scale5Up', 'JESUp', 'JESDown', 'JERUp', 'JERDown'], growth=True, name='systematic', label='Systematic uncertainty'),\n",
       "    storage=Weight()) # Sum: WeightedSum(value=40656.5, variance=43700.1) (WeightedSum(value=40934.4, variance=43994.8) with flow),\n",
       "  'photon_lepton_mass_3j0t': Hist(\n",
       "    Regular(200, 0, 200, name='mass', label='$m_{\\\\ell\\\\gamma}$ [GeV]'),\n",
       "    IntCategory([1, 2, 3, 4, 5], name='category', label='Photon Category'),\n",
       "    StrCategory([], growth=True, name='lepFlavor', label='Lepton flavor'),\n",
       "    StrCategory([], growth=True, name='systematic', label='Systematic uncertainty'),\n",
       "    storage=Weight()) # Sum: WeightedSum(value=0, variance=0),\n",
       "  'M3': Hist(\n",
       "    Regular(80, 0, 1000, name='M3', label='$M_3$ [GeV]'),\n",
       "    IntCategory([1, 2, 3, 4, 5], name='category', label='Photon Category'),\n",
       "    StrCategory([], growth=True, name='lepFlavor', label='Lepton flavor'),\n",
       "    StrCategory([], growth=True, name='systematic', label='Systematic uncertainty'),\n",
       "    storage=Weight()) # Sum: WeightedSum(value=0, variance=0),\n",
       "  'EventCount': 40611}}"
      ]
     },
     "execution_count": 4,
     "metadata": {},
     "output_type": "execute_result"
    }
   ],
   "source": [
    "output"
   ]
  },
  {
   "cell_type": "code",
   "execution_count": 5,
   "metadata": {},
   "outputs": [
    {
     "data": {
      "text/plain": [
       "<matplotlib.legend.Legend at 0x7f1f0b1bba90>"
      ]
     },
     "execution_count": 5,
     "metadata": {},
     "output_type": "execute_result"
    },
    {
     "data": {
      "image/png": "[encoded data removed]",
      "text/plain": [
       "<Figure size 640x480 with 1 Axes>"
      ]
     },
     "metadata": {},
     "output_type": "display_data"
    }
   ],
   "source": [
    "import hist\n",
    "import matplotlib.pyplot as plt\n",
    "\n",
    "\n",
    "fig, ax = plt.subplots()\n",
    "\n",
    "for ds, histos in output.items():\n",
    "    h = histos[\"all_photon_pt\"]\n",
    "    # h = histos[\"photon_chIso\"]\n",
    "    # for more complex histos you will have to reduce the dimensions with slicing\n",
    "    # see https://uhi.readthedocs.io/en/latest/indexing.html for a guide\n",
    "    # h = h[{\"category\": sum, \"lepFlavor\": sum, \"systematic\": \"nominal\"}]\n",
    "    h.plot1d(ax=ax, label=ds)\n",
    "\n",
    "ax.set_yscale(\"log\")\n",
    "ax.legend()"
   ]
  },
  {
   "cell_type": "code",
   "execution_count": 6,
   "metadata": {},
   "outputs": [
    {
     "name": "stdout",
     "output_type": "stream",
     "text": [
      "For dataset ZGamma_01J_5f_lowMass there is a mismatch in axes\n",
      "For dataset WGamma_01J_5f there is a mismatch in axes\n",
      "For dataset W4jets there is a mismatch in axes\n",
      "For dataset TTbarPowheg_Semilept there is a mismatch in axes\n",
      "For dataset TTGamma_SingleLept there is a mismatch in axes\n",
      "Done!\n"
     ]
    }
   ],
   "source": [
    "expected = util.load(\"output_Expected.coffea\")\n",
    "\n",
    "hname = \"photon_chIso\"\n",
    "for ds, histo in expected.items():\n",
    "    mine = output[ds][hname].values()\n",
    "    other = expected[ds][hname].values()\n",
    "    if mine.shape != other.shape:\n",
    "        print(f\"For dataset {ds} there is a mismatch in axes\")\n",
    "    elif not np.all(mine == other):\n",
    "        print(f\"For dataset {ds} there is a mismatch in bin yields\")\n",
    "    else:\n",
    "        print(f\"All good for {ds}\")\n",
    "\n",
    "print(\"Done!\")"
   ]
  },
  {
   "cell_type": "markdown",
   "metadata": {},
   "source": [
    "# Accessing Arrays Interactively"
   ]
  },
  {
   "cell_type": "markdown",
   "metadata": {},
   "source": [
    "Below is an example of loading a NanoAOD file interactively. This can be very useful for developing the code, and debugging any issues. Use this area to build your intuition for working with Coffea and awkward arrays!"
   ]
  },
  {
   "cell_type": "code",
   "execution_count": 7,
   "metadata": {},
   "outputs": [],
   "source": [
    "import awkward as ak\n",
    "from coffea.nanoevents import NanoEventsFactory, NanoAODSchema\n",
    "\n",
    "dataset = \"TTGamma_SingleLept\"\n",
    "fname = fileset[dataset][0]\n",
    "events = NanoEventsFactory.from_root(\n",
    "    fname,\n",
    "    schemaclass=NanoAODSchema,\n",
    "    entry_stop=40_000,\n",
    "    metadata={\"dataset\": dataset},\n",
    ").events()"
   ]
  },
  {
   "cell_type": "markdown",
   "metadata": {},
   "source": [
    "Once you have opened the file, you can explore its contents using the 'fields' syntax"
   ]
  },
  {
   "cell_type": "code",
   "execution_count": 8,
   "metadata": {},
   "outputs": [],
   "source": [
    "events[\"Photon\", \"charge\"] = 0\n",
    "leadingMuon = ak.firsts(events.Muon)\n",
    "leadingPhoton = ak.firsts(events.Photon)\n",
    "leadingElectron = ak.firsts(events.Electron)"
   ]
  },
  {
   "cell_type": "code",
   "execution_count": 9,
   "metadata": {},
   "outputs": [
    {
     "name": "stderr",
     "output_type": "stream",
     "text": [
      "/usr/local/lib/python3.10/site-packages/awkward/_connect/_numpy.py:195: RuntimeWarning: invalid value encountered in sqrt\n",
      "  result = getattr(ufunc, method)(\n"
     ]
    },
    {
     "data": {
      "text/plain": [
       "<Array [271, 32, 32.3, ... None, None, None] type='40000 * ?float32'>"
      ]
     },
     "execution_count": 9,
     "metadata": {},
     "output_type": "execute_result"
    }
   ],
   "source": [
    "(leadingMuon + leadingPhoton).mass"
   ]
  },
  {
   "cell_type": "code",
   "execution_count": 10,
   "metadata": {},
   "outputs": [
    {
     "data": {
      "text/plain": [
       "<Array [[271], [32, 6.76], ... [], [], []] type='40000 * var * float32'>"
      ]
     },
     "execution_count": 10,
     "metadata": {},
     "output_type": "execute_result"
    }
   ],
   "source": [
    "mugammapairs = ak.cartesian({\"mu\":events.Muon, \"gamma\":events.Photon})\n",
    "(mugammapairs.mu + mugammapairs.gamma).mass"
   ]
  },
  {
   "cell_type": "code",
   "execution_count": 11,
   "metadata": {},
   "outputs": [
    {
     "data": {
      "text/plain": [
       "<MuonArray [Muon, Muon, Muon, ... None, None, None] type='40000 * ?muon'>"
      ]
     },
     "execution_count": 11,
     "metadata": {},
     "output_type": "execute_result"
    }
   ],
   "source": [
    "leadingMuon"
   ]
  },
  {
   "cell_type": "code",
   "execution_count": 12,
   "metadata": {},
   "outputs": [
    {
     "name": "stdout",
     "output_type": "stream",
     "text": [
      "[Muon, Muon, Muon, Muon, Muon, Muon, Muon, ... None, None, Muon, None, None, None]\n"
     ]
    }
   ],
   "source": [
    "print(leadingMuon)"
   ]
  },
  {
   "cell_type": "code",
   "execution_count": 13,
   "metadata": {},
   "outputs": [
    {
     "data": {
      "text/plain": [
       "coffea.nanoevents.methods.nanoaod.MuonArray"
      ]
     },
     "execution_count": 13,
     "metadata": {},
     "output_type": "execute_result"
    }
   ],
   "source": [
    "type(leadingMuon)"
   ]
  },
  {
   "cell_type": "code",
   "execution_count": 14,
   "metadata": {},
   "outputs": [
    {
     "data": {
      "text/plain": [
       "2 dimensional histogram with axes:\n",
       "\t1: [0.  0.9 1.2 2.1 2.4]\n",
       "\t2: [ 26.  30.  40.  50.  60. 120. 200. 500.]"
      ]
     },
     "execution_count": 14,
     "metadata": {},
     "output_type": "execute_result"
    }
   ],
   "source": [
    "from ttgamma.scalefactors import mu_trig_err\n",
    "\n",
    "mu_trig_err"
   ]
  },
  {
   "cell_type": "code",
   "execution_count": 15,
   "metadata": {},
   "outputs": [
    {
     "data": {
      "text/plain": [
       "0.0006185738334658688"
      ]
     },
     "execution_count": 15,
     "metadata": {},
     "output_type": "execute_result"
    }
   ],
   "source": [
    "mu_trig_err(1.2, 36)"
   ]
  },
  {
   "cell_type": "code",
   "execution_count": 16,
   "metadata": {},
   "outputs": [
    {
     "data": {
      "text/plain": [
       "['eta',\n",
       " 'mass',\n",
       " 'phi',\n",
       " 'pt',\n",
       " 'genPartIdxMother',\n",
       " 'pdgId',\n",
       " 'status',\n",
       " 'statusFlags',\n",
       " 'genPartIdxMotherG',\n",
       " 'distinctParentIdxG',\n",
       " 'childrenIdxG',\n",
       " 'distinctChildrenIdxG',\n",
       " 'distinctChildrenDeepIdxG']"
      ]
     },
     "execution_count": 16,
     "metadata": {},
     "output_type": "execute_result"
    }
   ],
   "source": [
    "events.Photon.matched_gen.fields"
   ]
  },
  {
   "cell_type": "code",
   "execution_count": 17,
   "metadata": {},
   "outputs": [
    {
     "data": {
      "text/plain": [
       "['eta',\n",
       " 'mass',\n",
       " 'phi',\n",
       " 'pt',\n",
       " 'genPartIdxMother',\n",
       " 'pdgId',\n",
       " 'status',\n",
       " 'statusFlags',\n",
       " 'genPartIdxMotherG',\n",
       " 'distinctParentIdxG',\n",
       " 'childrenIdxG',\n",
       " 'distinctChildrenIdxG',\n",
       " 'distinctChildrenDeepIdxG']"
      ]
     },
     "execution_count": 17,
     "metadata": {},
     "output_type": "execute_result"
    }
   ],
   "source": [
    "events.GenPart.fields"
   ]
  },
  {
   "cell_type": "markdown",
   "metadata": {},
   "source": [
    "There is also a docstring for each of these variables in NanoAOD, which you can access using '?':"
   ]
  },
  {
   "cell_type": "code",
   "execution_count": 18,
   "metadata": {},
   "outputs": [
    {
     "data": {
      "text/plain": [
       "\u001b[0;31mType:\u001b[0m            Array\n",
       "\u001b[0;31mString form:\u001b[0m     [[0.105, 0.0342, 0.0479, -0.312, -0.0703, ... -0.0425, -0.246, 0.0532, -0.273]]\n",
       "\u001b[0;31mLength:\u001b[0m          40000\n",
       "\u001b[0;31mFile:\u001b[0m            /usr/local/lib/python3.10/site-packages/awkward/highlevel.py\n",
       "\u001b[0;31mDocstring:\u001b[0m       1 - Factor to get back to raw pT\n",
       "\u001b[0;31mClass docstring:\u001b[0m\n",
       "Args:\n",
       "    data (#ak.layout.Content, #ak.partition.PartitionedArray, #ak.Array, `np.ndarray`, `cp.ndarray`, `pyarrow.*`, str, dict, or iterable):\n",
       "        Data to wrap or convert into an array.\n",
       "           - If a NumPy array, the regularity of its dimensions is preserved\n",
       "             and the data are viewed, not copied.\n",
       "           - CuPy arrays are treated the same way as NumPy arrays except that\n",
       "             they default to `kernels=\"cuda\"`, rather than `kernels=\"cpu\"`.\n",
       "           - If a pyarrow object, calls #ak.from_arrow, preserving as much\n",
       "             metadata as possible, usually zero-copy.\n",
       "           - If a dict of str → columns, combines the columns into an\n",
       "             array of records (like Pandas's DataFrame constructor).\n",
       "           - If a string, the data are assumed to be JSON.\n",
       "           - If an iterable, calls #ak.from_iter, which assumes all dimensions\n",
       "             have irregular lengths.\n",
       "    behavior (None or dict): Custom #ak.behavior for this Array only.\n",
       "    with_name (None or str): Gives tuples and records a name that can be\n",
       "        used to override their behavior (see below).\n",
       "    check_valid (bool): If True, verify that the #layout is valid.\n",
       "    kernels (None, `\"cpu\"`, or `\"cuda\"`): If `\"cpu\"`, the Array will be placed in\n",
       "        main memory for use with other `\"cpu\"` Arrays and Records; if `\"cuda\"`,\n",
       "        the Array will be placed in GPU global memory using CUDA; if None,\n",
       "        the `data` are left untouched. For `\"cuda\"`,\n",
       "        [awkward-cuda-kernels](https://pypi.org/project/awkward-cuda-kernels)\n",
       "        must be installed, which can be invoked with\n",
       "        `pip install awkward[cuda] --upgrade`.\n",
       "\n",
       "High-level array that can contain data of any type.\n",
       "\n",
       "For most users, this is the only class in Awkward Array that matters: it\n",
       "is the entry point for data analysis with an emphasis on usability. It\n",
       "intentionally has a minimum of methods, preferring standalone functions\n",
       "like\n",
       "\n",
       "    ak.num(array1)\n",
       "    ak.combinations(array1)\n",
       "    ak.cartesian([array1, array2])\n",
       "    ak.zip({\"x\": array1, \"y\": array2, \"z\": array3})\n",
       "\n",
       "instead of bound methods like\n",
       "\n",
       "    array1.num()\n",
       "    array1.combinations()\n",
       "    array1.cartesian([array2, array3])\n",
       "    array1.zip(...)   # ?\n",
       "\n",
       "because its namespace is valuable for domain-specific parameters and\n",
       "functionality. For example, if records contain a field named `\"num\"`,\n",
       "they can be accessed as\n",
       "\n",
       "    array1.num\n",
       "\n",
       "instead of\n",
       "\n",
       "    array1[\"num\"]\n",
       "\n",
       "without any confusion or interference from #ak.num. The same is true\n",
       "for domain-specific methods that have been attached to the data. For\n",
       "instance, an analysis of mailing addresses might have a function that\n",
       "computes zip codes, which can be attached to the data with a method\n",
       "like\n",
       "\n",
       "    latlon.zip()\n",
       "\n",
       "without any confusion or interference from #ak.zip. Custom methods like\n",
       "this can be added with #ak.behavior, and so the namespace of Array\n",
       "attributes must be kept clear for such applications.\n",
       "\n",
       "See also #ak.Record.\n",
       "\n",
       "Interfaces to other libraries\n",
       "=============================\n",
       "\n",
       "NumPy\n",
       "*****\n",
       "\n",
       "When NumPy\n",
       "[universal functions](https://docs.scipy.org/doc/numpy/reference/ufuncs.html)\n",
       "(ufuncs) are applied to an ak.Array, they are passed through the Awkward\n",
       "data structure, applied to the numerical data at its leaves, and the output\n",
       "maintains the original structure.\n",
       "\n",
       "For example,\n",
       "\n",
       "    >>> array = ak.Array([[1, 4, 9], [], [16, 25]])\n",
       "    >>> np.sqrt(array)\n",
       "    <Array [[1, 2, 3], [], [4, 5]] type='3 * var * float64'>\n",
       "\n",
       "See also #ak.Array.__array_ufunc__.\n",
       "\n",
       "Some NumPy functions other than ufuncs are also handled properly in\n",
       "NumPy >= 1.17 (see\n",
       "[NEP 18](https://numpy.org/neps/nep-0018-array-function-protocol.html))\n",
       "and if an Awkward override exists. That is,\n",
       "\n",
       "    np.concatenate\n",
       "\n",
       "can be used on an Awkward Array because\n",
       "\n",
       "    ak.concatenate\n",
       "\n",
       "exists. If your NumPy is older than 1.17, use `ak.concatenate` directly.\n",
       "\n",
       "Pandas\n",
       "******\n",
       "\n",
       "Ragged arrays (list type) can be converted into Pandas\n",
       "[MultiIndex](https://pandas.pydata.org/pandas-docs/stable/user_guide/advanced.html)\n",
       "rows and nested records can be converted into MultiIndex columns. If the\n",
       "Awkward Array has only one \"branch\" of nested lists (i.e. different record\n",
       "fields do not have different-length lists, but a single chain of lists-of-lists\n",
       "is okay), then it can be losslessly converted into a single DataFrame.\n",
       "Otherwise, multiple DataFrames are needed, though they can be merged (with a\n",
       "loss of information).\n",
       "\n",
       "The #ak.to_pandas function performs this conversion; if `how=None`, it\n",
       "returns a list of DataFrames; otherwise, `how` is passed to `pd.merge` when\n",
       "merging the resultant DataFrames.\n",
       "\n",
       "Numba\n",
       "*****\n",
       "\n",
       "Arrays can be used in [Numba](http://numba.pydata.org/): they can be\n",
       "passed as arguments to a Numba-compiled function or returned as return\n",
       "values. The only limitation is that Awkward Arrays cannot be *created*\n",
       "inside the Numba-compiled function; to make outputs, consider\n",
       "#ak.ArrayBuilder.\n",
       "\n",
       "Arrow\n",
       "*****\n",
       "\n",
       "Arrays are convertible to and from [Apache Arrow](https://arrow.apache.org/),\n",
       "a standard for representing nested data structures in columnar arrays.\n",
       "See #ak.to_arrow and #ak.from_arrow.\n",
       "\n",
       "NumExpr\n",
       "*******\n",
       "\n",
       "[NumExpr](https://numexpr.readthedocs.io/en/latest/user_guide.html) can\n",
       "calculate expressions on a set of ak.Arrays, but only if the functions in\n",
       "`ak.numexpr` are used, not the functions in the `numexpr` library directly.\n",
       "\n",
       "Like NumPy ufuncs, the expression is evaluated on the numeric leaves of the\n",
       "data structure, maintaining structure in the output.\n",
       "\n",
       "See #ak.numexpr.evaluate to calculate an expression.\n",
       "\n",
       "See #ak.numexpr.re_evaluate to recalculate an expression without\n",
       "rebuilding its virtual machine.\n",
       "\n",
       "Autograd\n",
       "********\n",
       "\n",
       "Derivatives of a calculation on a set of ak.Arrays can be calculated with\n",
       "[Autograd](https://github.com/HIPS/autograd#readme), but only if the\n",
       "function in `ak.autograd` is used, not the functions in the `autograd`\n",
       "library directly.\n",
       "\n",
       "Like NumPy ufuncs, the function and its derivatives are evaluated on the\n",
       "numeric leaves of the data structure, maintaining structure in the output.\n",
       "\n",
       "See #ak.autograd.elementwise_grad to calculate a function and its\n",
       "derivatives elementwise on each numeric value in an ak.Array."
      ]
     },
     "metadata": {},
     "output_type": "display_data"
    }
   ],
   "source": [
    "events.Jet.rawFactor?"
   ]
  },
  {
   "cell_type": "code",
   "execution_count": null,
   "metadata": {},
   "outputs": [],
   "source": []
  }
 ],
 "metadata": {
  "kernelspec": {
   "display_name": "Python 3 (ipykernel)",
   "language": "python",
   "name": "python3"
  },
  "language_info": {
   "codemirror_mode": {
    "name": "ipython",
    "version": 3
   },
   "file_extension": ".py",
   "mimetype": "text/x-python",
   "name": "python",
   "nbconvert_exporter": "python",
   "pygments_lexer": "ipython3",
   "version": "3.10.8"
  }
 },
 "nbformat": 4,
 "nbformat_minor": 4
}
